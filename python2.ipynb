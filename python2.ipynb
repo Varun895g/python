{
  "nbformat": 4,
  "nbformat_minor": 0,
  "metadata": {
    "colab": {
      "provenance": []
    },
    "kernelspec": {
      "name": "python3",
      "display_name": "Python 3"
    },
    "language_info": {
      "name": "python"
    }
  },
  "cells": [
    {
      "cell_type": "code",
      "execution_count": null,
      "metadata": {
        "id": "8EEOs9kFStW-"
      },
      "outputs": [],
      "source": []
    },
    {
      "cell_type": "markdown",
      "source": [
        "# Theoratical Questions"
      ],
      "metadata": {
        "id": "pMUKINn8gzPl"
      }
    },
    {
      "cell_type": "markdown",
      "source": [
        "##1- What are data structures, and why are they important?\n",
        "\n",
        " Data structures are ways to organize and store data in a computer so that it can be accessed and modified efficiently. They are essential for managing large amounts of data and ensuring that operations like searching, sorting, and updating can be performed quickly and effectively.\n",
        "\n",
        "## 2-  Explain the difference between mutable and immutable data types with example.\n",
        "\n",
        "Mutable Data Types:\n",
        "\n",
        "These data types allow modification of their values after they are created.\n",
        "\n",
        "Examples include lists, dictionaries, and sets in Python.\n",
        "Immutable Data Types:\n",
        "\n",
        "These data types do not allow modification of their values after they are created.\n",
        "\n",
        "Examples include strings, tuples, and integers in Python.\n",
        "\n",
        "##3-  What are the main differences between lists and tuples in Python?\n",
        "\n",
        " Mutability:\n",
        "\n",
        "Lists are mutable, meaning you can change their content (add, remove, or modify elements) after they are created.\n",
        "\n",
        "Tuples are immutable, meaning once they are created, their content cannot be changed.\n",
        "Syntax:\n",
        "Lists are defined using square brackets[].\n",
        "Tupels are defined using parentheses().\n",
        "\n",
        "##4-Describe how dictionaries store data.\n",
        "\n",
        "Dictionaries in Python store data as key-value pairs. Each key is unique and maps to a specific value.\n",
        "\n",
        "##5-  Why might you use a set instead of a list in Python?\n",
        "\n",
        "Uniqueness:\n",
        "\n",
        "Sets automatically ensure that all elements are unique. If you need a collection of items where duplicates are not allowed, sets are the way to go.\n",
        "\n",
        "Lists allow duplicate elements.\n",
        "Order:\n",
        "\n",
        "Sets are unordered collections, meaning the elements do not have a specific order.\n",
        "\n",
        "Lists are ordered collections, meaning the elements have a specific order and can be accessed by their index.\n",
        "\n",
        "##6-What is a string in Python, and how is it different from a list?\n",
        "\n",
        "In Python, a string is a sequence of characters enclosed within single quotes ('), double quotes (\"), or triple quotes (''' or \"\"\"). Strings are immutable, meaning once created, they cannot be changed. On the other hand, a list is a collection of items (which can be of different types) enclosed within square brackets ([]). Lists are mutable, meaning you can modify them after creation.\n",
        "\n",
        "##7-  How do tuples ensure data integrity in Python?\n",
        "\n",
        "Tupels in python are a gerat way to ensure data integrity because they are immutable. Once a tuple is created, its elements cannot be changed, added or removed.\n",
        "\n",
        "##8-What is a hash table, and how does it relate to dictionaries in Python?\n",
        "\n",
        "A hash table is a data structre that maps keys to values using a hash function.  This function converts the key into an array, where the corresponding value is stored.\n",
        "\n",
        "##9-Can lists contain different data types in Python?\n",
        "\n",
        "In Python, lists are versatile and can contain elements of different data types. For example, you can have integers, strings, floats, and even other lists within a single list.\n",
        "\n",
        "##10- Explain why strings are immutable in Python.\n",
        "\n",
        "Efficiency: Immutable objects are easier to optimize and can be shared across different parts of a program without worrying about unexpected changes.\n",
        "\n",
        "Thread Safety: Since strings cannot be modified, they are inherently thread-safe, which is crucial in multi-threaded applications.\n",
        "\n",
        "Hashing: Immutable objects can be used as keys in dictionaries and elements in sets because their hash value remains constant.\n",
        "\n",
        "##11-What advantages do dictionaries offer over lists for certain tasks?\n",
        "\n",
        "Fast Lookups: Dictionaries provide O(1) time complexity for lookups, meaning they can retrieve values quickly using keys. Lists, on the other hand, have O(n) time complexity for lookups, as they require searching through elements.\n",
        "\n",
        "Key-Value Pairs: Dictionaries store data in key-value pairs, making them ideal for tasks where you need to associate unique keys with specific values. Lists are better suited for ordered collections of items.\n",
        "\n",
        "Flexibility: Dictionaries allow for more flexible data storage, as keys can be of various data types.\n",
        "\n",
        "##12- Describe a scenario where using a tuple would be preferable over a list.\n",
        "\n",
        "Assume a case where you want to store some important data which you do not want to be changed, now in this case you will use tuple not lists because tuples are immutable.\n",
        "\n",
        "##13- How do sets handle duplicate values in Python?\n",
        "\n",
        "In Python, sets automatically handle duplicate values by ensuring that each element is unique. When you add elements to a set, any duplicates are automatically removed.\n",
        "\n",
        "##14- How does the “in” keyword work differently for lists and dictionaries?\n",
        "\n",
        "Lists: When used with a list, the in keyword checks if a specific value is present in the list.\n",
        "Dictionaries: When used with a dictionary, the in keyword checks if a specific key is present in the dictionary.\n",
        "\n",
        "##15- Can you modify the elements of a tuple? Explain why or why not.\n",
        "\n",
        "No, you cannot modify the elements of a tuple in Python. Tuples are immutable, meaning once they are created, their elements cannot be changed. This immutability has several advantages:\n",
        "\n",
        "Data Integrity: Ensures that the data remains constant throughout the program, preventing accidental modifications.\n",
        "\n",
        "Hashability: Allows tuples to be used as keys in dictionaries and elements in sets, which require immutable objects.\n",
        "\n",
        "Performance: Tuples can be more memory-efficient and faster to access compared to lists.\n",
        "\n",
        "##16-What is a nested dictionary, and give an example of its use case?\n",
        "\n",
        "A nested dictionary in Python is a dictionary within a dictionary. It allows you to store complex data structures in a hierarchical manner.\n",
        "Nested dictionaries are particularly useful in scenarios where you need to represent structured data. For example, in a school management system, you might use nested dictionaries to store information about students, their courses, and grades.\n",
        "\n",
        "##17- Describe the time complexity of accessing elements in a dictionary.\n",
        "\n",
        "Accessing elements in a dictionary in Python is highly efficient due to its underlying hash table implementation. The average time complexity for accessing elements (i.e., retrieving a value using a key) is O(1), which means it takes constant time regardless of the size of the dictionary.\n",
        "\n",
        "##18- In what situations are lists preferred over dictionaries.\n",
        "\n",
        "Lists are preferred over dictionaries in several situations:\n",
        "\n",
        "Ordered Data: When you need to maintain the order of elements, lists are ideal because they preserve the order of insertion.\n",
        "\n",
        "Sequential Access: For tasks that involve iterating over elements in a sequence, lists are more efficient and straightforward.\n",
        "\n",
        "Homogeneous Data: When you have a collection of similar items, such as a list of numbers or strings, lists are more appropriate.\n",
        "\n",
        "##19- Why are dictionaries considered unordered, and how does that affect data retrieval?\n",
        "\n",
        "Dictionaries in Python are considered unordered because they do not maintain the order of elements based on their insertion. Instead, they use a hash table to store key-value pairs, which allows for efficient lookups, insertions, and deletions.\n",
        "\n",
        "##20- Explain the difference between a list and a dictionary in terms of data retrieval.\n",
        "\n",
        "Lists\n",
        "Index-Based Access: Lists use integer indices to access elements. You retrieve an element by specifying its position in the list.\n",
        "\n",
        "Sequential Search: To find an element, you may need to search through the list sequentially, which can be time-consuming for large lists.\n",
        "\n",
        "Order: Lists maintain the order of elements based on their insertion.\n",
        "\n",
        "Dictionaries\n",
        "Key-Based Access: Dictionaries use unique keys to access values. You retrieve a value by specifying its corresponding key.\n",
        "\n",
        "Hash Table: Dictionaries use a hash table for fast lookups, providing O(1) average time complexity for retrieving values.\n",
        "\n",
        "Unordered: Dictionaries do not maintain the order of elements based on their insertion.\n",
        "\n",
        "\n",
        "\n",
        "\n",
        "\n",
        "\n",
        "\n",
        "\n",
        "\n",
        "\n",
        "\n",
        "\n",
        "\n",
        "\n",
        "\n"
      ],
      "metadata": {
        "id": "h_eetCqiSv86"
      }
    },
    {
      "cell_type": "markdown",
      "source": [
        "# Practical Questions"
      ],
      "metadata": {
        "id": "ZygKv9HNK7Gc"
      }
    },
    {
      "cell_type": "code",
      "source": [
        "#1-  Write a code to create a string with your name and print it.\n",
        "my_name = \"Varun Rai\"\n",
        "print(my_name)"
      ],
      "metadata": {
        "colab": {
          "base_uri": "https://localhost:8080/"
        },
        "id": "8v1YQ72IKogX",
        "outputId": "3c0871c8-664f-47c7-9d7d-248a381d5ca7"
      },
      "execution_count": null,
      "outputs": [
        {
          "output_type": "stream",
          "name": "stdout",
          "text": [
            "Varun Rai\n"
          ]
        }
      ]
    },
    {
      "cell_type": "code",
      "source": [
        "#2-  Write a code to find the length of the string \"Hello World\".\n",
        "string = \"Hello World\"\n",
        "print(len(string))"
      ],
      "metadata": {
        "colab": {
          "base_uri": "https://localhost:8080/"
        },
        "id": "wWLj4UhbLdBN",
        "outputId": "0d41ddaf-0ebd-4232-8be0-72266d9a6cc8"
      },
      "execution_count": null,
      "outputs": [
        {
          "output_type": "stream",
          "name": "stdout",
          "text": [
            "11\n"
          ]
        }
      ]
    },
    {
      "cell_type": "code",
      "source": [
        "#3-  Write a code to slice the first 3 characters from the string \"Python Programming\".\n",
        "mystr = \"Python Programming\"\n",
        "slicedstr = mystr[0:3]\n",
        "print(slicedstr)\n",
        "\n"
      ],
      "metadata": {
        "colab": {
          "base_uri": "https://localhost:8080/"
        },
        "id": "Ia2lyuX9L6RU",
        "outputId": "12cf2498-58bf-4046-80d0-de9f2b76152c"
      },
      "execution_count": null,
      "outputs": [
        {
          "output_type": "stream",
          "name": "stdout",
          "text": [
            "Pyt\n"
          ]
        }
      ]
    },
    {
      "cell_type": "code",
      "source": [
        "#4-  Write a code to convert the string \"hello\" to uppercase.\n",
        "mystr = \"hello\"\n",
        "uppercase_str = mystr.upper()\n",
        "print(uppercase_str)"
      ],
      "metadata": {
        "colab": {
          "base_uri": "https://localhost:8080/"
        },
        "id": "FmMLVIdTM8tn",
        "outputId": "8a34acc8-6502-4ed8-c896-425364bae7e0"
      },
      "execution_count": null,
      "outputs": [
        {
          "output_type": "stream",
          "name": "stdout",
          "text": [
            "HELLO\n"
          ]
        }
      ]
    },
    {
      "cell_type": "code",
      "source": [
        "#5- Write a code to replace the word \"apple\" with \"orange\" in the string \"I like apple\".\n",
        "str1 = \"I like apple\"\n",
        "str2 = str1.replace(\"apple\", \"orange\")\n",
        "print(str2)\n"
      ],
      "metadata": {
        "colab": {
          "base_uri": "https://localhost:8080/"
        },
        "id": "3uUpuzaxNqu6",
        "outputId": "30761835-c086-4200-e1dc-55048c5f6031"
      },
      "execution_count": null,
      "outputs": [
        {
          "output_type": "stream",
          "name": "stdout",
          "text": [
            "I like orange\n"
          ]
        }
      ]
    },
    {
      "cell_type": "code",
      "source": [
        "#6-Write a code to create a list with numbers 1 to 5 and print it.\n",
        "lis = [1, 2, 3, 4, 5]\n",
        "print(lis)"
      ],
      "metadata": {
        "colab": {
          "base_uri": "https://localhost:8080/"
        },
        "id": "7Gjfzry0O4qv",
        "outputId": "ca24bb6d-d12a-4e5c-e437-bd4badac901e"
      },
      "execution_count": null,
      "outputs": [
        {
          "output_type": "stream",
          "name": "stdout",
          "text": [
            "[1, 2, 3, 4, 5]\n"
          ]
        }
      ]
    },
    {
      "cell_type": "code",
      "source": [
        "#7- Write a code to append the number 10 to the list [1, 2, 3, 4].\n",
        "lis1 = [1, 2, 3, 4]\n",
        "lis1.append(10)\n",
        "print(lis1)"
      ],
      "metadata": {
        "colab": {
          "base_uri": "https://localhost:8080/"
        },
        "id": "gYpuS5QwPcno",
        "outputId": "21d64d04-9ddd-4980-e2de-4fd0583c4aea"
      },
      "execution_count": null,
      "outputs": [
        {
          "output_type": "stream",
          "name": "stdout",
          "text": [
            "[1, 2, 3, 4, 10]\n"
          ]
        }
      ]
    },
    {
      "cell_type": "code",
      "source": [
        "#8- Write a code to remove the number 3 from the list [1, 2, 3, 4, ].\n",
        "lis1 = [1, 2, 3, 4]\n",
        "lis1.remove(3)\n",
        "print(lis1)"
      ],
      "metadata": {
        "colab": {
          "base_uri": "https://localhost:8080/"
        },
        "id": "3x8rHb29QIpI",
        "outputId": "620c6cc4-071e-42c2-b9ce-a9a46b220353"
      },
      "execution_count": null,
      "outputs": [
        {
          "output_type": "stream",
          "name": "stdout",
          "text": [
            "[1, 2, 4]\n"
          ]
        }
      ]
    },
    {
      "cell_type": "code",
      "source": [
        "#9-  Write a code to access the second element in the list ['a', 'b', 'c', 'd'].\n",
        "lis1 = ['a', 'b', 'c', 'd']\n",
        "print(lis1[1])"
      ],
      "metadata": {
        "colab": {
          "base_uri": "https://localhost:8080/"
        },
        "id": "PslK_mnzQIoU",
        "outputId": "b32828b7-0118-4949-9c26-05f7c1adac44"
      },
      "execution_count": null,
      "outputs": [
        {
          "output_type": "stream",
          "name": "stdout",
          "text": [
            "b\n"
          ]
        }
      ]
    },
    {
      "cell_type": "code",
      "source": [
        "#10- Write a code to reverse the list [10,20,30,40,50]\n",
        "lis1 = [10, 20, 30, 40, 50]\n",
        "lis2 = lis1[::-1]\n",
        "print(lis2)"
      ],
      "metadata": {
        "colab": {
          "base_uri": "https://localhost:8080/"
        },
        "id": "BNaaoHUQRdWy",
        "outputId": "622a345a-e383-4877-dcdd-05cea5a98a1a"
      },
      "execution_count": null,
      "outputs": [
        {
          "output_type": "stream",
          "name": "stdout",
          "text": [
            "[50, 40, 30, 20, 10]\n"
          ]
        }
      ]
    },
    {
      "cell_type": "code",
      "source": [
        "#11-  Write a code to create a tuple with the elements 10, 20, 30 and print it.\n",
        "tup1 = (10, 20, 30)\n",
        "print(tup1)"
      ],
      "metadata": {
        "colab": {
          "base_uri": "https://localhost:8080/"
        },
        "id": "AEsPvjG8nIUx",
        "outputId": "8b7e2bb7-3a73-447f-d45d-5aab2920baa4"
      },
      "execution_count": 1,
      "outputs": [
        {
          "output_type": "stream",
          "name": "stdout",
          "text": [
            "(10, 20, 30)\n"
          ]
        }
      ]
    },
    {
      "cell_type": "code",
      "source": [
        "#12-  Write a code to access the first element of the tuple ('apple', 'banana', 'cherry').\n",
        "tup1 = ('apple', 'banana', 'cherry')\n",
        "print(tup1[0])"
      ],
      "metadata": {
        "colab": {
          "base_uri": "https://localhost:8080/"
        },
        "id": "FCt6TZh-nsqL",
        "outputId": "83e3b85a-2acc-4c44-e2c6-79b7bea0ad76"
      },
      "execution_count": 2,
      "outputs": [
        {
          "output_type": "stream",
          "name": "stdout",
          "text": [
            "apple\n"
          ]
        }
      ]
    },
    {
      "cell_type": "code",
      "source": [
        "#13-  Write a code to count how many times the number 2 appears in the tuple (1, 2, 3, 2, 4, 2).\n",
        "tup1 = (1, 2, 3, 2, 4, 2)\n",
        "count_of_twos = tup1.count(2)\n",
        "print(\"The number 2 appears\", count_of_twos)"
      ],
      "metadata": {
        "colab": {
          "base_uri": "https://localhost:8080/"
        },
        "id": "BdMs1Xc1oIKK",
        "outputId": "111baec7-de97-4851-cbc0-21c6da07ab8b"
      },
      "execution_count": 3,
      "outputs": [
        {
          "output_type": "stream",
          "name": "stdout",
          "text": [
            "The number 2 appears 3\n"
          ]
        }
      ]
    },
    {
      "cell_type": "code",
      "source": [
        "#14- Write a code to find the index of the element \"cat\" in the tuple ('dog', 'cat', 'rabbit').\n",
        "tup1 = ('dog', 'cat', 'rabbit')\n",
        "index_of_cat = tup1.index('cat')\n",
        "print(\"The index of 'cat' is\", index_of_cat)"
      ],
      "metadata": {
        "colab": {
          "base_uri": "https://localhost:8080/"
        },
        "id": "qzhrF-cvo_LZ",
        "outputId": "d848ab73-8bd4-4acb-d7fe-ceb709048afc"
      },
      "execution_count": 4,
      "outputs": [
        {
          "output_type": "stream",
          "name": "stdout",
          "text": [
            "The index of 'cat' is 1\n"
          ]
        }
      ]
    },
    {
      "cell_type": "code",
      "source": [
        "#15-  Write a code to check if the element \"banana\" is in the tuple ('apple', 'orange', 'banana').\n",
        "tup1 = ('apple', 'orange', 'banana')\n",
        "if 'banana'  in tup1:\n",
        "  print(\"The element banana is in tuple\")\n",
        "else:\n",
        "  print(\"The element banana is not in tuple\")\n"
      ],
      "metadata": {
        "colab": {
          "base_uri": "https://localhost:8080/"
        },
        "id": "XBd-kypcp8up",
        "outputId": "8a905a18-9753-4aa2-ce45-11efd425ede0"
      },
      "execution_count": 6,
      "outputs": [
        {
          "output_type": "stream",
          "name": "stdout",
          "text": [
            "The element banana is not in tuple\n"
          ]
        }
      ]
    },
    {
      "cell_type": "code",
      "source": [
        "#16- Write a code to create a set with the elements 1, 2, 3, 4, 5 and print it.\n",
        "set1 = {1, 2, 3, 4, 5}\n",
        "print(set1)"
      ],
      "metadata": {
        "colab": {
          "base_uri": "https://localhost:8080/"
        },
        "id": "FSc1oQ4BrUz9",
        "outputId": "9a5b336e-5561-4435-a8af-bbdc1c76697e"
      },
      "execution_count": 7,
      "outputs": [
        {
          "output_type": "stream",
          "name": "stdout",
          "text": [
            "{1, 2, 3, 4, 5}\n"
          ]
        }
      ]
    },
    {
      "cell_type": "code",
      "source": [
        "#17-  Write a code to add the element 6 to the set {1, 2, 3, 4}.\n",
        "set1 = {1, 2, 3, 4}\n",
        "set1.add(6)\n",
        "print(\"The set after adding 6 is:\", set1)\n"
      ],
      "metadata": {
        "colab": {
          "base_uri": "https://localhost:8080/"
        },
        "id": "xJOMUiJarzFv",
        "outputId": "0e2377b5-3afa-4152-8496-67a3fb2264e0"
      },
      "execution_count": 11,
      "outputs": [
        {
          "output_type": "stream",
          "name": "stdout",
          "text": [
            "The set after adding 6 is: {1, 2, 3, 4, 6}\n"
          ]
        }
      ]
    },
    {
      "cell_type": "code",
      "source": [
        "#18- same as question number 11."
      ],
      "metadata": {
        "id": "zqSrKV-itJO-"
      },
      "execution_count": null,
      "outputs": []
    },
    {
      "cell_type": "code",
      "source": [
        "#19- same as question number 12."
      ],
      "metadata": {
        "id": "bidwyrzitWbM"
      },
      "execution_count": null,
      "outputs": []
    },
    {
      "cell_type": "code",
      "source": [
        "#20- same as question number 13."
      ],
      "metadata": {
        "id": "ChBlRJ5ctwgB"
      },
      "execution_count": null,
      "outputs": []
    },
    {
      "cell_type": "code",
      "source": [
        "#21- same as question number 14."
      ],
      "metadata": {
        "id": "IPc1k03Zt6S3"
      },
      "execution_count": null,
      "outputs": []
    },
    {
      "cell_type": "code",
      "source": [
        "#22- same as question number 15."
      ],
      "metadata": {
        "id": "B0w6cwj1t6Rz"
      },
      "execution_count": null,
      "outputs": []
    },
    {
      "cell_type": "code",
      "source": [
        "#23- same as question number 16."
      ],
      "metadata": {
        "id": "MmyHoQvsuHFb"
      },
      "execution_count": null,
      "outputs": []
    },
    {
      "cell_type": "code",
      "source": [
        "#24- same as question number 17."
      ],
      "metadata": {
        "id": "oA_OjwENuHEX"
      },
      "execution_count": null,
      "outputs": []
    }
  ]
}