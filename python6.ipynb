{
  "nbformat": 4,
  "nbformat_minor": 0,
  "metadata": {
    "colab": {
      "provenance": []
    },
    "kernelspec": {
      "name": "python3",
      "display_name": "Python 3"
    },
    "language_info": {
      "name": "python"
    }
  },
  "cells": [
    {
      "cell_type": "markdown",
      "source": [
        "# Theoreatical Questions"
      ],
      "metadata": {
        "id": "adY0rGduvMz1"
      }
    },
    {
      "cell_type": "markdown",
      "source": [
        "## 1-What is Object-Oriented Programming (OOP)\n",
        "Object-Oriented Programming (OOP) is a programming paradigm based on the concept of \"objects\" which contain data in the form of fields (attributes or properties) and code in the form of procedures (methods or functions). OOP focuses on designing software by defining types of objects that interact with each other.\n",
        "\n",
        "##2- What is a class in OOP\n",
        "A class in OOP is a blueprint for creating objects. It defines a set of attributes and methods that the objects created from the class will have. For example, a Car class might define properties like color and model, and methods like drive() and brake().\n",
        "\n",
        "##3- What is an object in OOP\n",
        "An object is an instance of a class. It is a concrete realization of the class, with actual values for the properties defined by the class. For instance, if Car is a class, then an object could be a specific car like a red Toyota Corolla.\n",
        "\n",
        "##4- What is the difference between abstraction and encapsulation\n",
        "Abstraction: Abstraction involves hiding the complex implementation details and showing only the essential features of the object. It helps in reducing complexity and allows the programmer to focus on what an object does instead of how it does it.\n",
        "\n",
        "Encapsulation: Encapsulation is the concept of bundling data (attributes) and methods (functions) that operate on the data into a single unit, or class. It also involves restricting access to some of the object's components, which is a means of preventing accidental interference and misuse of the data.\n",
        "\n",
        "##5-  What are dunder methods in Python\n",
        "\"Dunder methods\" are special methods in Python that begin and end with double underscores (e.g., __init__, __str__). These methods allow you to define the behavior of your objects for built-in operations and are also known as magic methods.\n",
        "\n",
        "##6-  Explain the concept of inheritance in OOP\n",
        "Inheritance is an OOP concept where a class (child class) inherits attributes and methods from another class (parent class). This allows for code reuse and the creation of a hierarchical relationship between classes. The child class can also override or extend the functionality of the parent class.\n",
        "\n",
        "##7- What is polymorphism in OOP\n",
        "Polymorphism is the ability of different objects to respond in a unique way to the same method call. It allows for the implementation of methods in different ways, enabling objects of different classes to be treated as objects of a common super class.\n",
        "\n",
        "\n",
        "##8-  How is encapsulation achieved in Python\n",
        "Encapsulation in Python is achieved using class definitions, and by making attributes private or protected using underscores (_ for protected and __ for private) to restrict access. This allows methods to be defined within the class to control access to the attributes.\n",
        "\n",
        "\n",
        "##9-  What is a constructor in Python\n",
        "A constructor is a special method in Python that is called when an object is instantiated. In Python, the constructor method is defined using __init__. It initializes the object's attributes\n",
        "\n",
        "##10- What are class and static methods in Python\n",
        "Class methods: Class methods are methods that are bound to the class and not the instance of the class. They can modify the class state that applies across all instances. Class methods are defined using the @classmethod decorator and the cls parameter.\n",
        "\n",
        "Static methods: Static methods are methods that do not modify the class or instance state. They are defined using the @staticmethod decorator and do not require any specific parameter like self or cls.\n",
        "\n",
        "##11-  What is method overloading in Python\n",
        "Method overloading allows a class to have multiple methods with the same name but different parameters. However, Python does not support method overloading directly like some other languages. Instead, it can be achieved using default arguments or variable-length arguments.\n",
        "\n",
        "##12- What is method overriding in OOP\n",
        "Method overriding allows a child class to provide a specific implementation of a method that is already defined in its parent class. The child class method must have the same name and parameters as the parent class method.\n",
        "\n",
        "##13- What is a property decorator in Python\n",
        "A property decorator in Python is used to define getter, setter, and deleter methods in a class. It allows you to define methods that can be accessed like attributes, using the @property decorator for getters and @<property_name>.setter for setters.\n",
        "\n",
        "\n",
        "##14-  Why is polymorphism important in OOP\n",
        "\n",
        "Polymorphism is important in OOP because it allows for flexibility and the ability to extend code. It enables objects of different classes to be treated as objects of a common superclass, allowing for a more modular and easily extensible codebase.\n",
        "\n",
        "##15- What is an abstract class in Python?\n",
        "An abstract class in Python is a class that cannot be instantiated and is meant to be subclassed. It often includes one or more abstract methods, which are methods that are declared but contain no implementation. Abstract classes are created using the abc module.\n",
        "\n",
        "\n",
        "##16- What are the advantages of OOP?\n",
        "Modularity: Code can be written in separate classes, making it easier to manage and understand.\n",
        "\n",
        "Reusability: Objects and classes can be reused across projects.\n",
        "\n",
        "Inheritance: Allows new classes to inherit the properties and methods of existing classes, promoting code reuse.\n",
        "\n",
        "Polymorphism: Enables one interface to be used for a general class of actions.\n",
        "\n",
        "Encapsulation: Protects data from unintended interference and misuse.\n",
        "\n",
        "##17- What is multiple inheritance in Python?\n",
        "Multiple inheritance is a feature in Python where a class can inherit attributes and methods from more than one parent class.\n",
        "\n",
        "##18- What is the difference between a class variable and an instance variable?\n",
        "Class Variable: A variable that is shared by all instances of a class. It is defined within the class but outside any methods.\n",
        "\n",
        "Instance Variable: A variable that is unique to each instance. It is typically defined within the constructor (__init__ method).\n",
        "\n",
        "##19- Explain the purpose of __str__ and __repr__ methods in Python.\n",
        "__str__: Returns a user-friendly string representation of an object. It is called by the str() built-in function and print.\n",
        "\n",
        "__repr__: Returns an official string representation of an object. It is meant for developers and is called by the repr() built-in function.\n",
        "\n",
        "##20- What is the significance of the super() function in Python?\n",
        "The super() function is used to call methods from a parent class. It is commonly used in method overriding to call the parent class's method within the child's method.\n",
        "\n",
        "##21- What is the significance of the __del__ method in Python?\n",
        "The __del__ method is a destructor method that is called when an object is about to be destroyed. It is used for cleanup activities.\n",
        "\n",
        "##22- What is the difference between @staticmethod and @classmethod in Python?\n",
        "@staticmethod: A method that does not operate on an instance or class. It does not take self or cls as a parameter.\n",
        "\n",
        "@classmethod: A method that operates on the class itself and takes cls as a\n",
        "\n",
        "##23- How does polymorphism work in Python with inheritance?\n",
        "Polymorphism in Python allows objects of different classes to be treated as objects of a common superclass. Methods can be overridden in subclasses, and the overridden method will be called based on the object type.\n",
        "\n",
        "##24- What is method chaining in Python OOP?\n",
        "Method chaining allows multiple methods to be called on the same object in a single statement by returning the object itself after each method call.\n",
        "\n",
        "##25- What is the purpose of the __call__ method in Python?\n",
        "The __call__ method allows an instance of a class to be called as a function. When an instance is called, the __call__ method is invoked."
      ],
      "metadata": {
        "id": "zOiTIZ29vefP"
      }
    },
    {
      "cell_type": "markdown",
      "source": [
        "# Practical Questions"
      ],
      "metadata": {
        "id": "6cohhwZoz8w3"
      }
    },
    {
      "cell_type": "code",
      "source": [
        "#1-Create a parent class Animal with a method speak() that prints a generic message. Create a child class Dog that overrides the speak() method to print \"Bark!\".\n",
        "class Animal:\n",
        "    def speak(self):\n",
        "        print(\"This is a generic animal sound.\")\n",
        "\n",
        "class Dog(Animal):\n",
        "    def speak(self):\n",
        "        print(\"Bark!\")\n",
        "\n",
        "# Example usage\n",
        "animal = Animal()\n",
        "animal.speak()  # Output: This is a generic animal sound.\n",
        "\n",
        "dog = Dog()\n",
        "dog.speak()     # Output: Bark!\n",
        "\n"
      ],
      "metadata": {
        "id": "euR4r1Rlz6yC",
        "colab": {
          "base_uri": "https://localhost:8080/"
        },
        "outputId": "5c95c1b8-c6e2-4e57-973a-dadd7da1188f"
      },
      "execution_count": 1,
      "outputs": [
        {
          "output_type": "stream",
          "name": "stdout",
          "text": [
            "This is a generic animal sound.\n",
            "Bark!\n"
          ]
        }
      ]
    },
    {
      "cell_type": "code",
      "source": [
        "#2-Write a program to create an abstract class Shape with a method area(). Derive classes Circle and Rectangle from it and implement the area() method in both.\n",
        "from abc import ABC, abstractmethod\n",
        "import math\n",
        "\n",
        "class Shape(ABC):\n",
        "    @abstractmethod\n",
        "    def area(self):\n",
        "        pass\n",
        "\n",
        "class Circle(Shape):\n",
        "    def __init__(self, radius):\n",
        "        self.radius = radius\n",
        "\n",
        "    def area(self):\n",
        "        return math.pi * self.radius ** 2\n",
        "\n",
        "class Rectangle(Shape):\n",
        "    def __init__(self, width, height):\n",
        "        self.width = width\n",
        "        self.height = height\n",
        "\n",
        "    def area(self):\n",
        "        return self.width * self.height\n",
        "\n",
        "# Example usage\n",
        "circle = Circle(3)\n",
        "print(circle.area())  # Output: 28.274333882308138\n",
        "\n",
        "rectangle = Rectangle(4, 5)\n",
        "print(rectangle.area())  # Output: 20\n",
        "\n"
      ],
      "metadata": {
        "id": "LrJXNvyz0GdV",
        "colab": {
          "base_uri": "https://localhost:8080/"
        },
        "outputId": "63e364f6-ca26-45ec-9059-f5822c110d91"
      },
      "execution_count": 2,
      "outputs": [
        {
          "output_type": "stream",
          "name": "stdout",
          "text": [
            "28.274333882308138\n",
            "20\n"
          ]
        }
      ]
    },
    {
      "cell_type": "code",
      "source": [
        "#3-Implement a multi-level inheritance scenario where a class Vehicle has an attribute type. Derive a class Car and further derive a class ElectricCar that adds a battery attribute.\n",
        "class Vehicle:\n",
        "    def __init__(self, type):\n",
        "        self.type = type\n",
        "\n",
        "class Car(Vehicle):\n",
        "    def __init__(self, type, model):\n",
        "        super().__init__(type)\n",
        "        self.model = model\n",
        "\n",
        "class ElectricCar(Car):\n",
        "    def __init__(self, type, model, battery):\n",
        "        super().__init__(type, model)\n",
        "        self.battery = battery\n",
        "\n",
        "# Example usage\n",
        "electric_car = ElectricCar(\"Sedan\", \"Tesla Model S\", \"100 kWh\")\n",
        "print(electric_car.type)   # Output: Sedan\n",
        "print(electric_car.model)  # Output: Tesla Model S\n",
        "print(electric_car.battery) # Output: 100 kWh\n",
        "\n"
      ],
      "metadata": {
        "id": "LsYBBELT0Gxw",
        "colab": {
          "base_uri": "https://localhost:8080/"
        },
        "outputId": "b232e881-5c6d-4e5f-ff86-c73fdfd03e92"
      },
      "execution_count": 3,
      "outputs": [
        {
          "output_type": "stream",
          "name": "stdout",
          "text": [
            "Sedan\n",
            "Tesla Model S\n",
            "100 kWh\n"
          ]
        }
      ]
    },
    {
      "cell_type": "code",
      "source": [
        "#4-Demonstrate polymorphism by creating a base class Bird with a method fly(). Create two derived classes Sparrow and Penguin that override the fly() method\n",
        "class Bird:\n",
        "    def fly(self):\n",
        "        raise NotImplementedError(\"Subclasses must implement this method\")\n",
        "\n",
        "class Sparrow(Bird):\n",
        "    def fly(self):\n",
        "        print(\"Sparrow can fly high.\")\n",
        "\n",
        "class Penguin(Bird):\n",
        "    def fly(self):\n",
        "        print(\"Penguin cannot fly.\")\n",
        "\n",
        "# Example usage\n",
        "bird = Sparrow()\n",
        "bird.fly()  # Output: Sparrow can fly high.\n",
        "\n",
        "bird = Penguin()\n",
        "bird.fly()  # Output: Penguin cannot fly.\n",
        "\n"
      ],
      "metadata": {
        "id": "peRhbxsv0HEw",
        "colab": {
          "base_uri": "https://localhost:8080/"
        },
        "outputId": "24b5e3cd-04b8-4743-a6e1-318d90596151"
      },
      "execution_count": 4,
      "outputs": [
        {
          "output_type": "stream",
          "name": "stdout",
          "text": [
            "Sparrow can fly high.\n",
            "Penguin cannot fly.\n"
          ]
        }
      ]
    },
    {
      "cell_type": "code",
      "source": [
        "#5-Write a program to demonstrate encapsulation by creating a class BankAccount with private attributes balance and methods to deposit, withdraw, and check balance.\n",
        "class BankAccount:\n",
        "    def __init__(self):\n",
        "        self.__balance = 0\n",
        "\n",
        "    def deposit(self, amount):\n",
        "        if amount > 0:\n",
        "            self.__balance += amount\n",
        "\n",
        "    def withdraw(self, amount):\n",
        "        if amount > 0 and amount <= self.__balance:\n",
        "            self.__balance -= amount\n",
        "\n",
        "    def check_balance(self):\n",
        "        return self.__balance\n",
        "\n",
        "# Example usage\n",
        "account = BankAccount()\n",
        "account.deposit(100)\n",
        "print(account.check_balance())  # Output: 100\n",
        "\n",
        "account.withdraw(50)\n",
        "print(account.check_balance())  # Output: 50\n",
        "\n"
      ],
      "metadata": {
        "id": "fExL3LOn0HbJ",
        "colab": {
          "base_uri": "https://localhost:8080/"
        },
        "outputId": "ce8f1037-54dc-4e44-dfb5-197d5c1cb886"
      },
      "execution_count": 5,
      "outputs": [
        {
          "output_type": "stream",
          "name": "stdout",
          "text": [
            "100\n",
            "50\n"
          ]
        }
      ]
    },
    {
      "cell_type": "code",
      "source": [
        "#6-Demonstrate runtime polymorphism using a method play() in a base class Instrument. Derive classes Guitar and Piano that implement their own version of play().\n",
        "class Instrument:\n",
        "    def play(self):\n",
        "        raise NotImplementedError(\"Subclasses must implement this method\")\n",
        "\n",
        "class Guitar(Instrument):\n",
        "    def play(self):\n",
        "        print(\"Playing the guitar.\")\n",
        "\n",
        "class Piano(Instrument):\n",
        "    def play(self):\n",
        "        print(\"Playing the piano.\")\n",
        "\n",
        "# Example usage\n",
        "instrument = Guitar()\n",
        "instrument.play()  # Output: Playing the guitar.\n",
        "\n",
        "instrument = Piano()\n",
        "instrument.play()  # Output: Playing the piano.\n",
        "\n"
      ],
      "metadata": {
        "id": "_CkwvXnc0Hv5",
        "colab": {
          "base_uri": "https://localhost:8080/"
        },
        "outputId": "e98e74a8-0732-4463-a19c-4fdebab819c5"
      },
      "execution_count": 6,
      "outputs": [
        {
          "output_type": "stream",
          "name": "stdout",
          "text": [
            "Playing the guitar.\n",
            "Playing the piano.\n"
          ]
        }
      ]
    },
    {
      "cell_type": "code",
      "source": [
        "#7-Create a class MathOperations with a class method add_numbers() to add two numbers and a static method subtract_numbers() to subtract two numbers\n",
        "class MathOperations:\n",
        "    @classmethod\n",
        "    def add_numbers(cls, a, b):\n",
        "        return a + b\n",
        "\n",
        "    @staticmethod\n",
        "    def subtract_numbers(a, b):\n",
        "        return a - b\n",
        "\n",
        "# Example usage\n",
        "print(MathOperations.add_numbers(5, 3))  # Output: 8\n",
        "print(MathOperations.subtract_numbers(5, 3))  # Output: 2\n",
        "\n"
      ],
      "metadata": {
        "id": "cYF462Sm0IFU",
        "colab": {
          "base_uri": "https://localhost:8080/"
        },
        "outputId": "bc4f9dda-eddd-45ab-c37e-343e9f06bb69"
      },
      "execution_count": 7,
      "outputs": [
        {
          "output_type": "stream",
          "name": "stdout",
          "text": [
            "8\n",
            "2\n"
          ]
        }
      ]
    },
    {
      "cell_type": "code",
      "source": [
        "#8-Implement a class Person with a class method to count the total number of persons created.\n",
        "class Person:\n",
        "    count = 0\n",
        "\n",
        "    def __init__(self, name):\n",
        "        self.name = name\n",
        "        Person.count += 1\n",
        "\n",
        "    @classmethod\n",
        "    def total_persons(cls):\n",
        "        return cls.count\n",
        "\n",
        "# Example usage\n",
        "person1 = Person(\"Alice\")\n",
        "person2 = Person(\"Bob\")\n",
        "print(Person.total_persons())  # Output: 2\n",
        "\n"
      ],
      "metadata": {
        "id": "bJJFT0vK0Ice",
        "colab": {
          "base_uri": "https://localhost:8080/"
        },
        "outputId": "f616a33e-797f-401a-a465-4d70a93ddf3d"
      },
      "execution_count": 8,
      "outputs": [
        {
          "output_type": "stream",
          "name": "stdout",
          "text": [
            "2\n"
          ]
        }
      ]
    },
    {
      "cell_type": "code",
      "source": [
        "#9-Write a class Fraction with attributes numerator and denominator. Override the str method to display the fraction as \"numerator/denominator\".\n",
        "class Fraction:\n",
        "    def __init__(self, numerator, denominator):\n",
        "        self.numerator = numerator\n",
        "        self.denominator = denominator\n",
        "\n",
        "    def __str__(self):\n",
        "        return f\"{self.numerator}/{self.denominator}\"\n",
        "\n",
        "# Example usage\n",
        "fraction = Fraction(3, 4)\n",
        "print(fraction)  # Output: 3/4\n",
        "\n"
      ],
      "metadata": {
        "id": "VKOdTp8O0Uyu",
        "colab": {
          "base_uri": "https://localhost:8080/"
        },
        "outputId": "fe8b2a17-e872-4742-8be7-f6c8d0072f98"
      },
      "execution_count": 9,
      "outputs": [
        {
          "output_type": "stream",
          "name": "stdout",
          "text": [
            "3/4\n"
          ]
        }
      ]
    },
    {
      "cell_type": "code",
      "source": [
        "#10- Demonstrate operator overloading by creating a class Vector and overriding the add method to add two vectors\n",
        "class Vector:\n",
        "    def __init__(self, x, y):\n",
        "        self.x = x\n",
        "        self.y = y\n",
        "\n",
        "    def __add__(self, other):\n",
        "        return Vector(self.x + other.x, self.y + other.y)\n",
        "\n",
        "    def __str__(self):\n",
        "        return f\"({self.x}, {self.y})\"\n",
        "\n",
        "# Example usage\n",
        "v1 = Vector(2, 3)\n",
        "v2 = Vector(4, 5)\n",
        "v3 = v1 + v2\n",
        "print(v3)  # Output: (6, 8)\n"
      ],
      "metadata": {
        "id": "lxSUOzcG0VFi",
        "colab": {
          "base_uri": "https://localhost:8080/"
        },
        "outputId": "d467db95-b343-499d-e917-024f7fe08e8e"
      },
      "execution_count": 10,
      "outputs": [
        {
          "output_type": "stream",
          "name": "stdout",
          "text": [
            "(6, 8)\n"
          ]
        }
      ]
    },
    {
      "cell_type": "code",
      "source": [
        "#11-Create a class Person with attributes name and age. Add a method greet() that prints \"Hello, my name is {name} and I am {age} years old.\"\n",
        "class Person:\n",
        "    def __init__(self, name, age):\n",
        "        self.name = name\n",
        "        self.age = age\n",
        "\n",
        "    def greet(self):\n",
        "        print(f\"Hello, my name is {self.name} and I am {self.age} years old.\")\n",
        "\n",
        "# Example usage\n",
        "person = Person(\"Alice\", 30)\n",
        "person.greet()  # Output: Hello, my name is Alice and I am 30 years old.\n",
        "\n"
      ],
      "metadata": {
        "id": "aC9Lqtk22yQp",
        "colab": {
          "base_uri": "https://localhost:8080/"
        },
        "outputId": "eba93864-26fa-433a-c448-fea3e98605ba"
      },
      "execution_count": 11,
      "outputs": [
        {
          "output_type": "stream",
          "name": "stdout",
          "text": [
            "Hello, my name is Alice and I am 30 years old.\n"
          ]
        }
      ]
    },
    {
      "cell_type": "code",
      "source": [
        "#12-Implement a class Student with attributes name and grades. Create a method average_grade() to compute the average of the grades.\n",
        "class Student:\n",
        "    def __init__(self, name, grades):\n",
        "        self.name = name\n",
        "        self.grades = grades\n",
        "\n",
        "    def average_grade(self):\n",
        "        return sum(self.grades) / len(self.grades)\n",
        "\n",
        "# Example usage\n",
        "student = Student(\"Bob\", [85, 92, 78, 90])\n",
        "print(student.average_grade())  # Output: 86.25\n",
        "\n"
      ],
      "metadata": {
        "id": "28ne3kqP2w6h",
        "colab": {
          "base_uri": "https://localhost:8080/"
        },
        "outputId": "db404b04-5a08-4b18-b0e4-7e66536f1b5f"
      },
      "execution_count": 12,
      "outputs": [
        {
          "output_type": "stream",
          "name": "stdout",
          "text": [
            "86.25\n"
          ]
        }
      ]
    },
    {
      "cell_type": "code",
      "source": [
        "#13-Create a class Rectangle with methods set_dimensions() to set the dimensions and area() to calculate the area.\n",
        "class Rectangle:\n",
        "    def __init__(self):\n",
        "        self.width = 0\n",
        "        self.height = 0\n",
        "\n",
        "    def set_dimensions(self, width, height):\n",
        "        self.width = width\n",
        "        self.height = height\n",
        "\n",
        "    def area(self):\n",
        "        return self.width * self.height\n",
        "\n",
        "# Example usage\n",
        "rectangle = Rectangle()\n",
        "rectangle.set_dimensions(4, 5)\n",
        "print(rectangle.area())  # Output: 20\n",
        "\n"
      ],
      "metadata": {
        "id": "T7k2h4mQ2wzi",
        "colab": {
          "base_uri": "https://localhost:8080/"
        },
        "outputId": "ca0ecff6-0793-4688-9090-8eb70afc850d"
      },
      "execution_count": 13,
      "outputs": [
        {
          "output_type": "stream",
          "name": "stdout",
          "text": [
            "20\n"
          ]
        }
      ]
    },
    {
      "cell_type": "code",
      "source": [
        "#14-Create a class Employee with a method calculate_salary() that computes the salary based on hours worked and hourly rate. Create a derived class Manager that adds a bonus to the salary\n",
        "class Employee:\n",
        "    def __init__(self, hours_worked, hourly_rate):\n",
        "        self.hours_worked = hours_worked\n",
        "        self.hourly_rate = hourly_rate\n",
        "\n",
        "    def calculate_salary(self):\n",
        "        return self.hours_worked * self.hourly_rate\n",
        "\n",
        "class Manager(Employee):\n",
        "    def __init__(self, hours_worked, hourly_rate, bonus):\n",
        "        super().__init__(hours_worked, hourly_rate)\n",
        "        self.bonus = bonus\n",
        "\n",
        "    def calculate_salary(self):\n",
        "        base_salary = super().calculate_salary()\n",
        "        return base_salary + self.bonus\n",
        "\n",
        "# Example usage\n",
        "employee = Employee(160, 20)\n",
        "print(employee.calculate_salary())  # Output: 3200\n",
        "\n",
        "manager = Manager(160, 20, 500)\n",
        "print(manager.calculate_salary())   # Output: 3700\n",
        "\n"
      ],
      "metadata": {
        "id": "7v6YMzBg2wtP",
        "colab": {
          "base_uri": "https://localhost:8080/"
        },
        "outputId": "91bf118c-8b94-469d-cd46-87fb8355efbb"
      },
      "execution_count": 14,
      "outputs": [
        {
          "output_type": "stream",
          "name": "stdout",
          "text": [
            "3200\n",
            "3700\n"
          ]
        }
      ]
    },
    {
      "cell_type": "code",
      "source": [
        "#15-Create a class Product with attributes name, price, and quantity. Implement a method total_price() that calculates the total price of the product.\n",
        "class Product:\n",
        "    def __init__(self, name, price, quantity):\n",
        "        self.name = name\n",
        "        self.price = price\n",
        "        self.quantity = quantity\n",
        "\n",
        "    def total_price(self):\n",
        "        return self.price * self.quantity\n",
        "\n",
        "# Example usage\n",
        "product = Product(\"Laptop\", 1000, 3)\n",
        "print(product.total_price())  # Output: 3000\n",
        "\n"
      ],
      "metadata": {
        "id": "mi5xjZpL2wlJ",
        "colab": {
          "base_uri": "https://localhost:8080/"
        },
        "outputId": "14bc37bc-e77d-4085-8693-0844113b1a89"
      },
      "execution_count": 15,
      "outputs": [
        {
          "output_type": "stream",
          "name": "stdout",
          "text": [
            "3000\n"
          ]
        }
      ]
    },
    {
      "cell_type": "code",
      "source": [
        "#16-Create a class Animal with an abstract method sound(). Create two derived classes Cow and Sheep that implement the sound() method.\n",
        "from abc import ABC, abstractmethod\n",
        "\n",
        "class Animal(ABC):\n",
        "    @abstractmethod\n",
        "    def sound(self):\n",
        "        pass\n",
        "\n",
        "class Cow(Animal):\n",
        "    def sound(self):\n",
        "        print(\"Moo!\")\n",
        "\n",
        "class Sheep(Animal):\n",
        "    def sound(self):\n",
        "        print(\"Baa!\")\n",
        "\n",
        "# Example usage\n",
        "cow = Cow()\n",
        "cow.sound()  # Output: Moo!\n",
        "\n",
        "sheep = Sheep()\n",
        "sheep.sound()  # Output: Baa!\n",
        "\n"
      ],
      "metadata": {
        "id": "dWe2MhGa2wcU",
        "colab": {
          "base_uri": "https://localhost:8080/"
        },
        "outputId": "8411da5d-c1b4-4eb1-daf7-e97937ba10c6"
      },
      "execution_count": 16,
      "outputs": [
        {
          "output_type": "stream",
          "name": "stdout",
          "text": [
            "Moo!\n",
            "Baa!\n"
          ]
        }
      ]
    },
    {
      "cell_type": "code",
      "source": [
        "#17-Create a class Book with attributes title, author, and year_published. Add a method get_book_info() that returns a formatted string with the book's details.\n",
        "class Book:\n",
        "    def __init__(self, title, author, year_published):\n",
        "        self.title = title\n",
        "        self.author = author\n",
        "        self.year_published = year_published\n",
        "\n",
        "    def get_book_info(self):\n",
        "        return f\"Title: {self.title}, Author: {self.author}, Year Published: {self.year_published}\"\n",
        "\n",
        "# Example usage\n",
        "book = Book(\"To Kill a Mockingbird\", \"Harper Lee\", 1960)\n",
        "print(book.get_book_info())  # Output: Title: To Kill a Mockingbird, Author: Harper Lee, Year Published: 1960\n",
        "\n",
        "\n"
      ],
      "metadata": {
        "id": "S7Wj8uxX2wNM",
        "colab": {
          "base_uri": "https://localhost:8080/"
        },
        "outputId": "98878db8-df03-49a4-f318-4663631a1c28"
      },
      "execution_count": 17,
      "outputs": [
        {
          "output_type": "stream",
          "name": "stdout",
          "text": [
            "Title: To Kill a Mockingbird, Author: Harper Lee, Year Published: 1960\n"
          ]
        }
      ]
    },
    {
      "cell_type": "code",
      "source": [
        "#18-Create a class House with attributes address and price. Create a derived class Mansion that adds an attribute number_of_rooms.\n",
        "class House:\n",
        "    def __init__(self, address, price):\n",
        "        self.address = address\n",
        "        self.price = price\n",
        "\n",
        "class Mansion(House):\n",
        "    def __init__(self, address, price, number_of_rooms):\n",
        "        super().__init__(address, price)\n",
        "        self.number_of_rooms = number_of_rooms\n",
        "\n",
        "# Example usage\n",
        "mansion = Mansion(\"123 Luxury St\", 5000000, 10)\n",
        "print(mansion.address)        # Output: 123 Luxury St\n",
        "print(mansion.price)          # Output: 5000000\n",
        "print(mansion.number_of_rooms) # Output: 10\n",
        "\n"
      ],
      "metadata": {
        "id": "YcXv1NKN2wCE",
        "colab": {
          "base_uri": "https://localhost:8080/"
        },
        "outputId": "a9e2f342-1214-4777-84d8-681fcde1855a"
      },
      "execution_count": 18,
      "outputs": [
        {
          "output_type": "stream",
          "name": "stdout",
          "text": [
            "123 Luxury St\n",
            "5000000\n",
            "10\n"
          ]
        }
      ]
    }
  ]
}