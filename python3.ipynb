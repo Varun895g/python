{
  "nbformat": 4,
  "nbformat_minor": 0,
  "metadata": {
    "colab": {
      "provenance": []
    },
    "kernelspec": {
      "name": "python3",
      "display_name": "Python 3"
    },
    "language_info": {
      "name": "python"
    }
  },
  "cells": [
    {
      "cell_type": "markdown",
      "source": [
        "# Theoratical questions"
      ],
      "metadata": {
        "id": "G9QzRF8VgPLR"
      }
    },
    {
      "cell_type": "markdown",
      "source": [
        "##1-  What is the difference between a function and a method in Python?\n",
        "\n",
        "Functions:\n",
        "\n",
        "Defined using the def keyword.\n",
        "\n",
        "Can be called independently.\n",
        "\n",
        "Not associated with any object.\n",
        "Methods:\n",
        "\n",
        "Also defined using the def keyword.\n",
        "\n",
        "Associated with an object (usually a class instance).\n",
        "\n",
        "Called on an object.\n",
        "\n",
        "The first parameter is usually self, which refers to the instance of the class.\n",
        "##2-  Explain the concept of function arguments and parameters in Python.\n",
        "Parameters:\n",
        "\n",
        "Parameters are the variables listed inside the parentheses in the function definition.\n",
        "\n",
        "They act as placeholders for the values that will be passed to the function.\n",
        "Arguments:\n",
        "\n",
        "Arguments are the actual values passed to the function when it is called.\n",
        "\n",
        "They correspond to the parameters defined in the function.\n",
        "\n",
        "##3- What are the different ways to define and call a function in Python?\n",
        "1-Regular function\n",
        "2-Function with Variable-Length Arguments\n",
        "3-Function with Default Arguments\n",
        "4- Function with Keyword Arguments   \n",
        "5 -Lambda Function (Anonymous Function)\n",
        "\n",
        "##4-What is the purpose of the `return` statement in a Python function?\n",
        "Output a Value: It allows the function to send a value back to the caller. This value can be used for further computation or stored in a variable.\n",
        "\n",
        "##5-What are iterators in Python and how do they differ from iterables?\n",
        "Iterabels:\n",
        "Definition: An iterable is any Python object capable of returning its members one at a time, allowing it to be iterated over in a loop.\n",
        "\n",
        "Examples: Lists, tuples, strings, dictionaries, and sets.\n",
        "Iterators\n",
        "Definition: An iterator is an object that represents a stream of data. It returns one element at a time from the iterable until all elements have been accessed.\n",
        "\n",
        "##6- Explain the concept of generators in Python and how they are defined.\n",
        "Generators in Python are a special type of iterable that allow you to iterate over a sequence of values lazily, meaning they generate values on the fly and only when needed. This makes them memory-efficient, especially when dealing with large datasets.\n",
        "\n",
        "##7-What are the advantages of using generators over regular functions?\n",
        "Memory Efficiency:\n",
        "Generators produce items one at a time and only when needed, which means they use less memory compared to functions that return entire lists.\n",
        "\n",
        "State Retention:\n",
        "Generators maintain their state between successive calls, allowing them to resume where they left off. This makes them suitable for tasks like reading large files line by line.\n",
        "\n",
        "##8-What is a lambda function in Python and when is it typically used?\n",
        "A lambda function in Python is a small, anonymous function defined using the lambda keyword. It can have any number of arguments but only one expression. The expression is evaluated and returned when the function is called.\n",
        "\n",
        "##9-Explain the purpose and usage of the `map()` function in Python.\n",
        "Purpose\n",
        "Transformation: Apply a function to each item in an iterable, transforming the data.\n",
        "Efficiency: Avoid explicit loops, making the code more concise and readable.\n",
        "Functional Programming: Emphasize the use of functions to process data.\n",
        "\n",
        "Uses:\n",
        "Lambda functions are often used with map() for concise, inline transformations.\n",
        "You can pass multiple iterables to map(), and the function must accept that many arguments.\n",
        "\n",
        "##10-What is the difference between `map()`, `reduce()`, and `filter()` functions in Python?\n",
        "Functionality:\n",
        "\n",
        "map(): Transforms each item in the iterable.\n",
        "\n",
        "reduce(): Aggregates the iterable into a single value.\n",
        "\n",
        "filter(): Selects items from the iterable based on a condition.\n",
        "\n",
        "Return Type:\n",
        "\n",
        "map(): Returns a map object (an iterator).\n",
        "\n",
        "reduce(): Returns a single value.\n",
        "\n",
        "filter(): Returns a filter object (an iterator).\n",
        "Use Cases:\n",
        "\n",
        "map(): When you need to apply a function to each item in an iterable.\n",
        "\n",
        "reduce(): When you need to combine all items in an iterable into a single value.\n",
        "\n",
        "filter(): When you need to filter items in an iterable based on a condition.\n",
        "\n"
      ],
      "metadata": {
        "id": "keOS35bigiCY"
      }
    },
    {
      "cell_type": "markdown",
      "source": [
        "## 11- Using pen & Paper write the internal mechanism for sum operation using reduce function on this given list:[47,11,42,13]; give me a image of this question solved by using pen paper.\n",
        "Initial Step: The reduce function takes two arguments: a function and a sequence. In this case, the function is the sum operation, and the sequence is [47, 11, 42, 13].\n",
        "\n",
        "First Iteration:\n",
        "\n",
        "The function is applied to the first two elements of the list: 47 and 11.\n",
        "\n",
        "Result: 47 + 11 = 58.\n",
        "\n",
        "Second Iteration:\n",
        "\n",
        "The function is applied to the result of the first iteration (58) and the next element in the list (42).\n",
        "\n",
        "Result: 58 + 42 = 100.\n",
        "\n",
        "Third Iteration:\n",
        "\n",
        "The function is applied to the result of the second iteration (100) and the next element in the list (13).\n",
        "\n",
        "Result: 100 + 13 = 113.\n",
        "So, the final result of the sum operation using the reduce function on the list [47, 11, 42, 13] is 113."
      ],
      "metadata": {
        "id": "H9VEe9Kawxf6"
      }
    },
    {
      "cell_type": "markdown",
      "source": [
        "# Practical Questions"
      ],
      "metadata": {
        "id": "r2hgnE-un0qX"
      }
    },
    {
      "cell_type": "code",
      "source": [
        "#1-Write a Python function that takes a list of numbers as input and returns the sum of all even numbers in the list.\n",
        "def sum_of_even_numbers(numbers):\n",
        "    # Initialize the sum to 0\n",
        "    total = 0\n",
        "    # Iterate through the list of numbers\n",
        "    for num in numbers:\n",
        "        # Check if the number is even\n",
        "        if num % 2 == 0:\n",
        "            # Add the even number to the total\n",
        "            total += num\n",
        "    return total\n",
        "\n",
        "# Example usage\n",
        "numbers = [1, 2, 3, 4, 5, 6]\n",
        "print(sum_of_even_numbers(numbers))  # Output: 12"
      ],
      "metadata": {
        "id": "3kuUwNGtn_rL"
      },
      "execution_count": null,
      "outputs": []
    },
    {
      "cell_type": "code",
      "source": [
        "#2-Create a Python function that accepts a string and returns the reverse of that string.\n",
        "def reverse_string(s):\n",
        "  return s[::-1]\n",
        "reverse_string(\"hello world!\")"
      ],
      "metadata": {
        "colab": {
          "base_uri": "https://localhost:8080/",
          "height": 36
        },
        "id": "-xBUhVFinxQh",
        "outputId": "58d260ff-dbe1-415e-eb34-7e9bbe839bb0"
      },
      "execution_count": null,
      "outputs": [
        {
          "output_type": "execute_result",
          "data": {
            "text/plain": [
              "'!dlrow olleh'"
            ],
            "application/vnd.google.colaboratory.intrinsic+json": {
              "type": "string"
            }
          },
          "metadata": {},
          "execution_count": 1
        }
      ]
    },
    {
      "cell_type": "code",
      "source": [
        "#3-Implement a Python function that takes a list of integers and returns a new list containing the squares of each number.\n",
        "def square_number(number):\n",
        "  return [num ** 2 for num in number]\n",
        "square_number([1, 2, 3, 4, 5])"
      ],
      "metadata": {
        "colab": {
          "base_uri": "https://localhost:8080/"
        },
        "id": "Hz2YqgpJp0VW",
        "outputId": "4a6a6d72-b238-4a84-c85f-425b899f7aed"
      },
      "execution_count": null,
      "outputs": [
        {
          "output_type": "execute_result",
          "data": {
            "text/plain": [
              "[1, 4, 9, 16, 25]"
            ]
          },
          "metadata": {},
          "execution_count": 2
        }
      ]
    },
    {
      "cell_type": "code",
      "source": [
        "#4-Write a Python function that checks if a given number is prime or not from 1 to 200.\n",
        "def is_prime(n):\n",
        "    if n <= 1:\n",
        "        return False\n",
        "    for i in range(2, int(n**0.5) + 1):\n",
        "        if n % i == 0:\n",
        "            return print(\"not a prime number\")\n",
        "    return print(\"prime number\")\n",
        "is_prime(4951)\n",
        "\n",
        "#for num in range(1, 201):\n",
        "    #if is_prime(num):\n",
        "       # print(f\"{num} is a prime number\")\n",
        "    #else:\n",
        "       # print(f\"{num} is not a prime number\")\n",
        "\n"
      ],
      "metadata": {
        "colab": {
          "base_uri": "https://localhost:8080/"
        },
        "collapsed": true,
        "id": "w6UL1786rAQf",
        "outputId": "ec3fa9ff-6f04-47c7-8fb9-9e6211767d9b"
      },
      "execution_count": null,
      "outputs": [
        {
          "output_type": "stream",
          "name": "stdout",
          "text": [
            "prime number\n"
          ]
        }
      ]
    },
    {
      "cell_type": "code",
      "source": [
        "#5- Create an iterator class in Python that generates the Fibonacci sequence up to a specified number of terms.\n",
        "class FibonacciIterator:\n",
        "    def __init__(self, n):\n",
        "        self.n = n\n",
        "        self.current = 0\n",
        "        self.next = 1\n",
        "        self.count = 0\n",
        "\n",
        "    def __iter__(self):\n",
        "        return self\n",
        "\n",
        "    def __next__(self):\n",
        "        if self.count >= self.n:\n",
        "            raise StopIteration\n",
        "        self.count += 1\n",
        "        fib = self.current\n",
        "        self.current, self.next = self.next, self.current + self.next\n",
        "        return fib\n",
        "\n",
        "# example usage\n",
        "fib_iterator =FibonacciIterator(10)\n",
        "for num in fib_iterator:\n",
        "  print(num)\n"
      ],
      "metadata": {
        "colab": {
          "base_uri": "https://localhost:8080/"
        },
        "id": "i5CVuXgnwN8K",
        "outputId": "0c0be60c-b690-4b07-886a-7161111047cc"
      },
      "execution_count": null,
      "outputs": [
        {
          "output_type": "stream",
          "name": "stdout",
          "text": [
            "0\n",
            "1\n",
            "1\n",
            "2\n",
            "3\n",
            "5\n",
            "8\n",
            "13\n",
            "21\n",
            "34\n"
          ]
        }
      ]
    },
    {
      "cell_type": "code",
      "source": [
        "#6- Write a generator function in Python that yields the powers of 2 up to a given exponent.\n",
        "def powers_of_two(exponent):\n",
        "    for i in range(exponent + 1):\n",
        "        yield 2 ** i\n",
        "\n",
        "# Example usage:\n",
        "for power in powers_of_two(5):\n",
        "    print(power)\n"
      ],
      "metadata": {
        "id": "skv9UsOKxX3n"
      },
      "execution_count": null,
      "outputs": []
    },
    {
      "cell_type": "code",
      "source": [
        "#7- Implement a genrator function that reads a file line by line and yields each line as string.\n",
        "def read_file_line_by_line(file_path):\n",
        "    with open(file_path, 'r') as file:\n",
        "        for line in file:\n",
        "            yield line.strip()\n",
        "\n",
        "# Example usage:\n",
        "for line in read_file_line_by_line('example.txt'):\n",
        "    print(line)\n"
      ],
      "metadata": {
        "id": "lZ6vWeBqsGxP"
      },
      "execution_count": null,
      "outputs": []
    },
    {
      "cell_type": "code",
      "source": [
        "#8-  Use a lambda function in Python to sort a list of tuples based on the second element of each tuple.\n",
        "# Sample list of tuples\n",
        "tuples_list = [(1, 3), (4, 1), (2, 2), (5, 0)]\n",
        "\n",
        "# Sorting the list based on the second element of each tuple\n",
        "sorted_list = sorted(tuples_list, key=lambda x: x[1])\n",
        "\n",
        "print(sorted_list)\n"
      ],
      "metadata": {
        "id": "aJ0JDdvfsqcl"
      },
      "execution_count": null,
      "outputs": []
    },
    {
      "cell_type": "code",
      "source": [
        "#9-  Write a Python program that uses `map()` to convert a list of temperatures from Celsius to Fahrenheit.\n",
        "# Function to convert Celsius to Fahrenheit\n",
        "def celsius_to_fahrenheit(celsius):\n",
        "    return (celsius * 9/5) + 32\n",
        "\n",
        "# List of temperatures in Celsius\n",
        "celsius_temperatures = [0, 20, 37, 100]\n",
        "\n",
        "# Using map() to convert the list of temperatures to Fahrenheit\n",
        "fahrenheit_temperatures = list(map(celsius_to_fahrenheit, celsius_temperatures))\n",
        "\n",
        "print(fahrenheit_temperatures)\n"
      ],
      "metadata": {
        "id": "O2RiATivs6f_"
      },
      "execution_count": null,
      "outputs": []
    },
    {
      "cell_type": "code",
      "source": [
        "#10-  Create a Python program that uses `filter()` to remove all the vowels from a given string.\n",
        "def remove_vowels(input_string):\n",
        "    vowels = 'aeiouAEIOU'\n",
        "    return ''.join(filter(lambda char: char not in vowels, input_string))\n",
        "\n",
        "# Example usage:\n",
        "input_string = \"Hello, World!\"\n",
        "result = remove_vowels(input_string)\n",
        "print(result)\n"
      ],
      "metadata": {
        "id": "kGYRuLomtIk_"
      },
      "execution_count": null,
      "outputs": []
    },
    {
      "cell_type": "code",
      "source": [
        "#11-  Imagine an accounting routine used in a book shop. It works on a list with sublists, which look like this:\n",
        "#Order Number\n",
        "#Book Title and Author\n",
        "#Quantity\n",
        "#Price per Item\n",
        "#34587\n",
        "#Learning Python, Mark Lutz\n",
        "#4\n",
        "#40.95\n",
        "#98762\n",
        "#Programming Python, Mark Lutz\n",
        "#5\n",
        "#56.80\n",
        "#77226\n",
        "#Head First Python, Paul Barry\n",
        "#3\n",
        "#32.95\n",
        "#88112\n",
        "#Einführung in Python3, Bernd Klein\n",
        "#3\n",
        "#24.99\n",
        "#Write a Python program, which returns a list with 2-tuples. Each tuple consists of the order number and the\n",
        "#product of the price per item and the quantity. The product should be increased by 10 ,- € if the value of the\n",
        "#order is smaller than 100,00 €.\n",
        "#Write a Python program using lambda and map.\n",
        "# List of orders\n",
        "orders = [\n",
        "    [34587, \"Learning Python, Mark Lutz\", 4, 40.95],\n",
        "    [98762, \"Programming Python, Mark Lutz\", 5, 56.80],\n",
        "    [77226, \"Head First Python, Paul Barry\", 3, 32.95],\n",
        "    [88112, \"Einführung in Python3, Bernd Klein\", 3, 24.99]\n",
        "]\n",
        "\n",
        "# Function to calculate the total price\n",
        "calculate_total = lambda order: (order[0], order[2] * order[3] if order[2] * order[3] >= 100 else order[2] * order[3] + 10)\n",
        "\n",
        "# Using map to apply the function to each order\n",
        "order_totals = list(map(calculate_total, orders))\n",
        "\n",
        "print(order_totals)\n",
        "\n"
      ],
      "metadata": {
        "colab": {
          "base_uri": "https://localhost:8080/"
        },
        "id": "0tvExMDvtX2Z",
        "outputId": "4c85641d-fb73-4eb4-dfef-4dcb409be587"
      },
      "execution_count": null,
      "outputs": [
        {
          "output_type": "stream",
          "name": "stdout",
          "text": [
            "[(34587, 163.8), (98762, 284.0), (77226, 108.85000000000001), (88112, 84.97)]\n"
          ]
        }
      ]
    }
  ]
}