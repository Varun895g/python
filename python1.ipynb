{
  "nbformat": 4,
  "nbformat_minor": 0,
  "metadata": {
    "colab": {
      "provenance": []
    },
    "kernelspec": {
      "name": "python3",
      "display_name": "Python 3"
    },
    "language_info": {
      "name": "python"
    }
  },
  "cells": [
    {
      "cell_type": "code",
      "execution_count": null,
      "metadata": {
        "id": "x1ksc6fs0iI2"
      },
      "outputs": [],
      "source": []
    },
    {
      "cell_type": "markdown",
      "source": [
        "# Theoretical Questions\n",
        "\n",
        "##1- What is python and why is it popular?\n",
        "\n",
        " Python is a general purpose interpreted, interactive, object oriented and high level programming language.  Python is popular because it is designed to be highly readable. It uses english keywords frequently where as other language use punctuation.\n",
        "\n",
        "##2- What is an interpreter in python?\n",
        "An interpreter in python is a program that executes python code directly line by line. Interpreter reads each line of code, translate it to machine language and then executes it.\n",
        "\n",
        "##3- What are predefined keywords in python?\n",
        "Predefined keywords in python are reserved words that have special meanings and cannot be used as identifiers. Examples are False, True, None, and, as, etc.\n",
        "\n",
        "\n",
        "\n",
        "\n",
        "\n",
        "\n",
        "\n"
      ],
      "metadata": {
        "id": "CqC7b7q100zp"
      }
    },
    {
      "cell_type": "markdown",
      "source": [
        "##4- Can keywords used as variable names ?\n",
        "No keywords in python cannot be as variable names because they are reserved words with specific meaning within language syntax.\n",
        "\n",
        "##5- What is mutability in python?\n",
        "In python mutability refers to the ability of an object to be changed after it has been created.\n",
        "\n",
        "##6- Why are lists mutable but tupels are immutable?\n",
        "The difference in mutability between lists and tupels comes down due to their intended use cases and design philosophy. Lists are mutable to provide flexibility while tupels are immutable to offer safety for fixed data.\n",
        "\n",
        "##7- What is difference between '==' and 'is' operator in python?\n",
        "In python '==' operator, purpose is to check for value equality and it is used to see whether two objects are equal or not.\n",
        "Purpose of 'is' operator is to check for identity equality and it's use is to compare the memory adresses of two objects to see if they are the same object.\n",
        "\n",
        "##8- What are logic operators in python?\n",
        "Logic operators in python are used to combine conditional statements. They are essential for controlling thr flow of our program based on multiple conditions.\n",
        "Logical operators are \"and\", \"or\", \"not\".\n",
        "\n",
        "##9- What is type casting in python?\n",
        "Type casting in python is the process of converting one data type into another.\n",
        "\n",
        "##10- What is difference between implicit and explicit type casting?\n",
        "In implicit type casting the conversion is done automatically by python. It generally occurs while converting smaller data type into larger data type to ensure no data loss.\n",
        "In explicit type casting the conversion is manually performed by user.\n",
        "\n",
        "##11- What is purpose conditional statement in python?\n",
        "Conditional statements in python are used to execute different block of code based on certain conditions.\n",
        "\n",
        "##12- How does elif statement work?\n",
        "Elif statement in python is short form of \"else if\" . It allows you to checq multiple conditions in a sequence.\n",
        "\n",
        "##13- What is difference between \"for\" and \"while\" loop?\n",
        "For loop is used when you know the number of iterations in advance but While loop is used when the number of iterations are not known in advance.\n",
        "\n",
        "##14- Describe a secenario where a while loop is more suitable than a for loop.\n",
        "Imagine you are writing a program that prompts a user to enter their password and you want to keep asking for the password until user enters the correct one.\n",
        "In this case you don't know how many attempts the user will need so a while loop is more appropriate."
      ],
      "metadata": {
        "id": "sIntn6yCJA5t"
      }
    },
    {
      "cell_type": "markdown",
      "source": [
        "# Practical questions"
      ],
      "metadata": {
        "id": "zvUGbcUcrvui"
      }
    },
    {
      "cell_type": "code",
      "source": [
        "# 1 - Write a program to print \"Hello, World!\"\n",
        "print(\"Hello, World!\")"
      ],
      "metadata": {
        "colab": {
          "base_uri": "https://localhost:8080/"
        },
        "id": "IgMeImcer8EM",
        "outputId": "6618507f-6d6a-4609-aceb-b43f9f1e776b"
      },
      "execution_count": 1,
      "outputs": [
        {
          "output_type": "stream",
          "name": "stdout",
          "text": [
            "Hello, World!\n"
          ]
        }
      ]
    },
    {
      "cell_type": "code",
      "source": [
        "# 2- Write a python program that displays your name and age.\n",
        "print(\"My name is Varun Rai and my age is 19 years.\")"
      ],
      "metadata": {
        "colab": {
          "base_uri": "https://localhost:8080/"
        },
        "id": "yYM4ZYNqsx9R",
        "outputId": "9ad935c5-d5d4-4765-9cf4-583c92ba316d"
      },
      "execution_count": 2,
      "outputs": [
        {
          "output_type": "stream",
          "name": "stdout",
          "text": [
            "My name is Varun Rai and my age is 19 years.\n"
          ]
        }
      ]
    },
    {
      "cell_type": "code",
      "source": [
        "# 3- Write a code to print all the pre-defined keywords in python using the keyword library.\n",
        "import keyword\n",
        "keywords = keyword.kwlist\n",
        "for kw in keywords:\n",
        "  print(kw)"
      ],
      "metadata": {
        "colab": {
          "base_uri": "https://localhost:8080/"
        },
        "id": "ol9UiGLgtYRQ",
        "outputId": "f934d7ee-76b5-430d-f4bd-c972b81542e5"
      },
      "execution_count": 3,
      "outputs": [
        {
          "output_type": "stream",
          "name": "stdout",
          "text": [
            "False\n",
            "None\n",
            "True\n",
            "and\n",
            "as\n",
            "assert\n",
            "async\n",
            "await\n",
            "break\n",
            "class\n",
            "continue\n",
            "def\n",
            "del\n",
            "elif\n",
            "else\n",
            "except\n",
            "finally\n",
            "for\n",
            "from\n",
            "global\n",
            "if\n",
            "import\n",
            "in\n",
            "is\n",
            "lambda\n",
            "nonlocal\n",
            "not\n",
            "or\n",
            "pass\n",
            "raise\n",
            "return\n",
            "try\n",
            "while\n",
            "with\n",
            "yield\n"
          ]
        }
      ]
    },
    {
      "cell_type": "code",
      "source": [
        "# 4- Write a program that checks if a given word is a python keyword.\n",
        "import keyword\n",
        "def is_keyword(word):\n",
        "  return keyword.iskeyword(word)\n",
        "\n",
        "word = input(\"Enter a word:\")\n",
        "if is_keyword(word):\n",
        "  print(\"it's a python keyword\")\n",
        "else:\n",
        "  print(\"it's not a python keyword\")\n"
      ],
      "metadata": {
        "colab": {
          "base_uri": "https://localhost:8080/"
        },
        "id": "15xUFqAhu_YC",
        "outputId": "4e6d64ad-c624-4c36-b1a4-39746a180b55"
      },
      "execution_count": 6,
      "outputs": [
        {
          "output_type": "stream",
          "name": "stdout",
          "text": [
            "Enter a word:nonlocal\n",
            "it's a python keyword\n"
          ]
        }
      ]
    },
    {
      "cell_type": "code",
      "source": [
        "# 5- Create a list and tuple in python, and demonstrate how attempting to change an element works differently for each.\n",
        "list = [1, 2, 3, 4, 5]\n",
        "tuple = (1, 2, 3, 4, 5)\n",
        "list[4] = 10\n",
        "print(list)\n",
        "# list is updated\n",
        "# try tuple[4] = 10 you will get an error\n"
      ],
      "metadata": {
        "colab": {
          "base_uri": "https://localhost:8080/"
        },
        "id": "Swm-wHXIxfPQ",
        "outputId": "12e283d1-a6b5-4e68-eb7d-2c28f7d67eb5"
      },
      "execution_count": 7,
      "outputs": [
        {
          "output_type": "stream",
          "name": "stdout",
          "text": [
            "[1, 2, 3, 4, 10]\n"
          ]
        }
      ]
    },
    {
      "cell_type": "code",
      "source": [
        "# 6- Write a function demonstrate the behavior of mutable and immutable arguments.\n",
        "def modify_arguments(mutable_arg, immutable_arg):\n",
        "  mutable_arg.append(100)\n",
        "  immutable_arg += 100\n",
        "  print(\"Inside function:\")\n",
        "  print(\"Mutable argument:\", mutable_arg)\n",
        "  print(\"Immutable argument:\", immutable_arg)\n",
        "my_list = [1, 2, 3]\n",
        "my_int  = 10\n",
        "\n",
        "print(\"before function call:\")\n",
        "print(\"list:\", my_list)\n",
        "print(\"integer:\", my_int)\n",
        "\n",
        "modify_arguments(my_list, my_int)\n",
        "print(\"after function call:\")\n",
        "print(\"list:\", my_list)\n",
        "print(\"integer\", my_int)"
      ],
      "metadata": {
        "colab": {
          "base_uri": "https://localhost:8080/"
        },
        "id": "G11tH93EzPxP",
        "outputId": "1a2809f9-fe22-4df7-849b-59e521e83743"
      },
      "execution_count": 8,
      "outputs": [
        {
          "output_type": "stream",
          "name": "stdout",
          "text": [
            "before function call:\n",
            "list: [1, 2, 3]\n",
            "integer: 10\n",
            "Inside function:\n",
            "Mutable argument: [1, 2, 3, 100]\n",
            "Immutable argument: 110\n",
            "after function call:\n",
            "list: [1, 2, 3, 100]\n",
            "integer 10\n"
          ]
        }
      ]
    },
    {
      "cell_type": "code",
      "source": [
        "# 7- It is repeat of question 6."
      ],
      "metadata": {
        "id": "TE8dmLib4RXA"
      },
      "execution_count": null,
      "outputs": []
    },
    {
      "cell_type": "code",
      "source": [
        "# 8- Write a program to demonstrate the use of logical operators.\n",
        "def logical_operators_demo(a, b):\n",
        "  print(\"a: \", a)\n",
        "  print(\"b:\", b)\n",
        "  print(\"a and b:\", a and b)\n",
        "  print(\"a or b:\", a or b)\n",
        "  print(\"not a:\", not a)\n",
        "  print(\"not b:\", not b)\n",
        "logical_operators_demo(True, False)\n",
        "logical_operators_demo(10 > 5, 5 > 10)\n",
        "logical_operators_demo(0, 1)"
      ],
      "metadata": {
        "colab": {
          "base_uri": "https://localhost:8080/"
        },
        "id": "z8zkml0m5_ey",
        "outputId": "604dd078-5f9a-4ed1-c005-5a9e6e4d1078"
      },
      "execution_count": 9,
      "outputs": [
        {
          "output_type": "stream",
          "name": "stdout",
          "text": [
            "a:  True\n",
            "b: False\n",
            "a and b: False\n",
            "a or b: True\n",
            "not a: False\n",
            "not b: True\n",
            "a:  True\n",
            "b: False\n",
            "a and b: False\n",
            "a or b: True\n",
            "not a: False\n",
            "not b: True\n",
            "a:  0\n",
            "b: 1\n",
            "a and b: 0\n",
            "a or b: 1\n",
            "not a: True\n",
            "not b: False\n"
          ]
        }
      ]
    },
    {
      "cell_type": "code",
      "source": [
        "def convert_input(user_input):\n",
        "  try:\n",
        "    int_value = int(user_input)\n",
        "  except ValueError:\n",
        "    int_value = None\n",
        "  try:\n",
        "    float_value = float(user_input)\n",
        "  except ValueError:\n",
        "    float_value = None\n",
        "\n",
        "  if user_input.lower() in ['true', '1', 'yes']:\n",
        "    bool_value = True\n",
        "  elif user_input.lower() in ['false', '0', 'no']:\n",
        "    bool_value = False\n",
        "  else:\n",
        "    bool_value = None\n",
        "  return int_value, float_value, bool_value\n",
        "\n",
        "user_input = input(\"Enter a value:\")\n",
        "int_value, float_value,  bool_value = convert_input(user_input)\n",
        "print(\"Integer value:\", int_value)\n",
        "print(\"Float vakue:\", float_value)\n",
        "print(\"Boolean value:\", bool_value)"
      ],
      "metadata": {
        "id": "-on5NM8E8JAS"
      },
      "execution_count": null,
      "outputs": []
    },
    {
      "cell_type": "code",
      "source": [
        "# 10- Write a code to demonstrate type casting with list elements\n",
        "original_list = ['1', '2', '3', '4']\n",
        "int_list = [int(x) for x in original_list if x.isdigit()]\n",
        "float_list = [float(x) for x in original_list if x.replace('.', ' ', 1).isdigit()]\n",
        "bool_list = [x.lower() == 'true' for x in original_list if x.lower() in ['true', 'false']]\n",
        "\n",
        "print(\"Original_list:\", original_list)\n",
        "print(\"Integer list:\", int_list)\n",
        "print(\"Float list:\", float_list)\n",
        "print(\"Boolean list:\", bool_list)\n"
      ],
      "metadata": {
        "colab": {
          "base_uri": "https://localhost:8080/"
        },
        "id": "cucVoBlbDTV7",
        "outputId": "04786399-10aa-4ce7-efe2-40aaf5b86059"
      },
      "execution_count": 10,
      "outputs": [
        {
          "output_type": "stream",
          "name": "stdout",
          "text": [
            "Original_list: ['1', '2', '3', '4']\n",
            "Integer list: [1, 2, 3, 4]\n",
            "Float list: [1.0, 2.0, 3.0, 4.0]\n",
            "Boolean list: []\n"
          ]
        }
      ]
    },
    {
      "cell_type": "code",
      "source": [
        "# 11- Write a program that checks if a number is positive , negative or zero.\n",
        "x = float(input(print(\"Enter the number\")))\n",
        "if x > 0:\n",
        "  print(\"positive\")\n",
        "  if x < 0:\n",
        "   print(\"negative\")\n",
        "else:\n",
        "  print(\"Zero\")"
      ],
      "metadata": {
        "colab": {
          "base_uri": "https://localhost:8080/"
        },
        "id": "8XOvFCoYGvY9",
        "outputId": "76f7c2d5-62ba-4433-c331-62d71f71e5ac"
      },
      "execution_count": 13,
      "outputs": [
        {
          "output_type": "stream",
          "name": "stdout",
          "text": [
            "Enter the number\n",
            "None67.89\n",
            "positive\n"
          ]
        }
      ]
    },
    {
      "cell_type": "code",
      "source": [
        "# 12 Write a program to integer from 1 to 10.\n",
        "for i in range(1, 11):\n",
        "  print(i)"
      ],
      "metadata": {
        "colab": {
          "base_uri": "https://localhost:8080/"
        },
        "id": "UbmUFFtwDTUi",
        "outputId": "d5a25762-9e43-4fdd-a170-5e0d495124ef"
      },
      "execution_count": 14,
      "outputs": [
        {
          "output_type": "stream",
          "name": "stdout",
          "text": [
            "1\n",
            "2\n",
            "3\n",
            "4\n",
            "5\n",
            "6\n",
            "7\n",
            "8\n",
            "9\n",
            "10\n"
          ]
        }
      ]
    },
    {
      "cell_type": "code",
      "source": [
        "# 13- Write a python program to find the sum of all even numbers between 1 and 50\n",
        "sum_even = 0\n",
        "for i in range(1, 51):\n",
        "  if i % 2 == 0:\n",
        "    sum_even += i\n",
        "print(\"Sum of even numbers between 1 and 50 is : \", sum_even)"
      ],
      "metadata": {
        "colab": {
          "base_uri": "https://localhost:8080/"
        },
        "id": "NrzNdG0XItoo",
        "outputId": "13dd64c6-6da5-4771-fdfc-f616983367a7"
      },
      "execution_count": 15,
      "outputs": [
        {
          "output_type": "stream",
          "name": "stdout",
          "text": [
            "Sum of even numbers between 1 and 50 is :  650\n"
          ]
        }
      ]
    },
    {
      "cell_type": "code",
      "source": [
        "# 14- Write a program to reverse a string using a while loop\n",
        "def reverse_string(input_string):\n",
        "  reversed_string = \"\"\n",
        "  length = len(input_string)\n",
        "  index = length - 1\n",
        "  while index >= 0:\n",
        "    reversed_string += input_string[index]\n",
        "    index -= 1\n",
        "  return reversed_string\n",
        "user_input = input(\"Enter a string: \")\n",
        "reversed_string = reverse_string(user_input)\n",
        "print(\"Reversed string:\", reversed_string)"
      ],
      "metadata": {
        "colab": {
          "base_uri": "https://localhost:8080/"
        },
        "id": "fnAC5hziItna",
        "outputId": "de9e2b5c-34dd-443a-a9a2-bc7ccf682e52"
      },
      "execution_count": 16,
      "outputs": [
        {
          "output_type": "stream",
          "name": "stdout",
          "text": [
            "Enter a string: 1,2,3,4,5\n",
            "Reversed string: 5,4,3,2,1\n"
          ]
        }
      ]
    },
    {
      "cell_type": "code",
      "source": [
        "# 15- Write a python program to calculate the factorial of a number provided by the user using a while loop.\n",
        "def calculate_factorial(n):\n",
        "  factorial = 1\n",
        "  while n > 0:\n",
        "    factorial *= n\n",
        "    n -= 1\n",
        "  return factorial\n",
        "\n",
        "user_input = int(input(\"Enter a number: \"))\n",
        "result  = calculate_factorial(user_input)\n",
        "print(f\"The factorial of {user_input} is {result}\")"
      ],
      "metadata": {
        "colab": {
          "base_uri": "https://localhost:8080/"
        },
        "id": "j5dn739pMuRN",
        "outputId": "f9235231-89f8-4262-9d1a-3873d6910daf"
      },
      "execution_count": 17,
      "outputs": [
        {
          "output_type": "stream",
          "name": "stdout",
          "text": [
            "Enter a number: 5\n",
            "The factorial of 5 is 120\n"
          ]
        }
      ]
    }
  ]
}