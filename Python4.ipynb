{
  "nbformat": 4,
  "nbformat_minor": 0,
  "metadata": {
    "colab": {
      "provenance": []
    },
    "kernelspec": {
      "name": "python3",
      "display_name": "Python 3"
    },
    "language_info": {
      "name": "python"
    }
  },
  "cells": [
    {
      "cell_type": "markdown",
      "source": [
        "# Theoreatical Questions"
      ],
      "metadata": {
        "id": "VCu3vVG8huYU"
      }
    },
    {
      "cell_type": "markdown",
      "source": [
        "## 1-What is the difference between interpreted and compiled language?\n",
        "Interpreted Languages: These languages are executed line-by-line by an interpreter. Examples include Python, JavaScript, and Ruby. They are generally easier to debug and more flexible, but can be slower in execution compared to compiled languages.\n",
        "Compiled Languages: These languages are translated into machine code by a compiler before execution. Examples include C, C++, and Rust. They tend to be faster and more efficient but require a separate compilation step before running the program.\n",
        "\n",
        "## 2- What id exception handling in python?\n",
        "Exception handling in Python is a way to handle errors gracefully without crashing the program. It uses the try, except, else, and finally blocks to catch and manage exceptions.\n",
        "\n",
        "## 3- What is purpose of the finally block in exception handling?\n",
        "The finally block in Python is used to execute code that should run no matter what, whether an exception is raised or not. It's often used for cleanup actions, such as closing files or releasing resources.\n",
        "\n",
        "## 4- What is logging in python?\n",
        "Logging is a way to track events that happen when some software runs. The logging module in Python allows you to report status, error, and informational messages. It’s useful for debugging and monitoring applications.\n",
        "\n",
        "## 5-What is significance of the _ _del_ _ method in python?\n",
        "The __del__ method in Python is a destructor method. It is called when an object is about to be destroyed, allowing you to clean up resources like closing files or network connections.\n",
        "\n",
        "\n",
        "## 6-What is the difference between import and from ... import in Python\n",
        "import module: Imports the entire module. You need to prefix the module name when accessing its functions or classes.\n",
        "from module import name: Imports specific functions or classes from a module. You can use them directly without the module prefix.\n",
        "\n",
        "##7- How can you handle multiple exceptions in Python?\n",
        "You can handle multiple exceptions using a tuple in the except block.\n",
        "\n",
        "## 8- What is the purpose of the with statement when handling files in Python?\n",
        "The with statement is used for resource management and ensures that resources are properly cleaned up after use. It is commonly used when working with files.\n",
        "\n",
        "\n",
        "##9- What is the difference between multithreading and multiprocessing?\n",
        "Multithreading: Involves multiple threads within the same process. It is useful for I/O-bound tasks but can be limited by the Global Interpreter Lock (GIL) in Python.\n",
        "\n",
        "Multiprocessing: Involves multiple processes, each with its own memory space. It is useful for CPU-bound tasks and can bypass the GIL.\n",
        "\n",
        "## 10-What are the advantages of using logging in a program?\n",
        "Debugging: Helps identify and fix issues.\n",
        "Monitoring: Tracks the application's behavior and performance.\n",
        "Auditing: Keeps a record of events for security and compliance.\n",
        "\n",
        "## 11- What is memory management in Python\n",
        "Memory management in Python involves the allocation and deallocation of memory to ensure efficient use of resources. Python uses a private heap space for memory management, and the built-in garbage collector handles the automatic recycling of unused memory.\n",
        "\n",
        "## 12-  What are the basic steps involved in exception handling in Python\n",
        "Try Block: Code that might raise an exception is placed inside a try block.\n",
        "\n",
        "Except Block: Code to handle the exception is placed inside an except block.\n",
        "\n",
        "Else Block: Code that runs if no exception occurs is placed inside an else block.\n",
        "\n",
        "Finally Block: Code that runs no matter what, often used for cleanup, is placed inside a finally block.\n",
        "\n",
        "## 13- Why is memory management important in Python\n",
        "Efficient memory management is crucial to prevent memory leaks and ensure that applications run smoothly without consuming excessive resources. It helps in optimizing performance and maintaining system stability\n",
        "\n",
        "## 14-What is the role of try and except in exception handling\n",
        "try Block: Contains code that might raise an exception.\n",
        "\n",
        "except Block: Contains code to handle the exception if it occurs.\n",
        "\n",
        "\n",
        "## 15-  How does Python's garbage collection system work\n",
        "Python's garbage collection system automatically manages memory by reclaiming memory occupied by objects that are no longer in use. It uses reference counting and a cyclic garbage collector to detect and clean up circular references.\n",
        "\n",
        "\n",
        "## 16- What is the purpose of the else block in exception handling\n",
        "The else block in exception handling is executed if no exceptions are raised in the try block. It is useful for code that should run only if the try block succeeds.\n",
        "\n",
        "## 17- What are the common logging levels in Python\n",
        "DEBUG: Detailed information, typically of interest only when diagnosing problems.\n",
        "\n",
        "INFO: Confirmation that things are working as expected.\n",
        "\n",
        "WARNING: An indication that something unexpected happened, or indicative of some problem in the near future.\n",
        "\n",
        "ERROR: Due to a more serious problem, the software has not been able to perform some function.\n",
        "\n",
        "CRITICAL: A very serious error, indicating that the program itself may be unable to continue running.\n",
        "\n",
        "## 18- What is the difference between os.fork() and multiprocessing in Python\n",
        "os.fork(): Creates a new process by duplicating the current process. It is available only on Unix-like systems.\n",
        "\n",
        "Multiprocessing: A module that allows the creation of multiple processes, each with its own memory space. It is cross-platform and provides a higher-level interface for process-based parallelism.\n",
        "\n",
        "## 19- What is the importance of closing a file in Python\n",
        "Closing a file in Python is crucial because it ensures that all data is properly written to the file and that resources are released. It prevents data corruption and frees up system resources.\n",
        "\n",
        "## 20- What is the difference between file.read() and file.readline() in Python\n",
        "file.read(): Reads the entire file or a specified number of bytes.\n",
        "file.readline(): Reads a single line from the file.\n",
        "\n",
        "\n",
        "## 21- What is the logging module in Python used for\n",
        "The logging module in Python is used for tracking events that happen when some software runs. It helps in debugging, monitoring, and auditing applications by providing a way to log messages at different severity levels.\n",
        "\n",
        "## 22- What is the os module in Python used for in file handling\n",
        "The os module in Python provides functions for interacting with the operating system. It includes functions for file handling, such as creating, deleting, and renaming files and directories.\n",
        "\n",
        "## 23-  What are the challenges associated with memory management in Python?\n",
        "Memory Leaks: Unused objects that are not properly garbage collected can lead to memory leaks.\n",
        "\n",
        "Fragmentation: Memory fragmentation can occur when memory is allocated and deallocated in a non-contiguous manner.\n",
        "\n",
        "Performance: Inefficient memory management can impact the performance of applications\n",
        "\n",
        "\n",
        "## 24- How do you raise an exception manually in Python\n",
        "You can raise an exception manually using the raise statement:\n",
        "raise ValueError(\"An error occurred\").\n",
        "\n",
        "## 25- Why is it important to use multithreading in certain applications\n",
        "Multithreading is important for applications that require concurrent execution of tasks, such as web servers, GUI applications, and real-time systems. It helps in improving performance and responsiveness by allowing multiple threads to run simultaneously."
      ],
      "metadata": {
        "id": "h79y6-w3aP8v"
      }
    },
    {
      "cell_type": "markdown",
      "source": [
        "# Practical Question\n"
      ],
      "metadata": {
        "id": "PNgEbWCq7VWv"
      }
    },
    {
      "cell_type": "code",
      "source": [
        "# 1-How can you open a file for writing in Python and write a string to it?\n",
        "# Open a file for writing and write a string to it\n",
        "with open('example.txt', 'w') as file:\n",
        "    file.write('Hello, World!')\n"
      ],
      "metadata": {
        "id": "paEHxubl7J8b"
      },
      "execution_count": null,
      "outputs": []
    },
    {
      "cell_type": "code",
      "source": [
        "# 2- Write a Python program to read the contents of a file and print each line.\n",
        "# Read the contents of a file and print each line\n",
        "with open('example.txt', 'r') as file:\n",
        "    for line in file:\n",
        "        print(line.strip())\n"
      ],
      "metadata": {
        "id": "B2Lg56sE7K02"
      },
      "execution_count": null,
      "outputs": []
    },
    {
      "cell_type": "code",
      "source": [
        "# 3- How would you handle a case where the file doesn't exist while trying to open it for reading?\n",
        "# Handle a case where the file doesn't exist while trying to open it for reading\n",
        "try:\n",
        "    with open('non_existent_file.txt', 'r') as file:\n",
        "        content = file.read()\n",
        "except FileNotFoundError:\n",
        "    print(\"The file does not exist.\")\n"
      ],
      "metadata": {
        "id": "QeFqurrN82uu"
      },
      "execution_count": null,
      "outputs": []
    },
    {
      "cell_type": "code",
      "source": [
        "# 4- Write a Python script that reads from one file and writes its content to another file.\n",
        "# Read from one file and write its content to another file\n",
        "with open('source.txt', 'r') as source_file:\n",
        "    content = source_file.read()\n",
        "\n",
        "with open('destination.txt', 'w') as destination_file:\n",
        "    destination_file.write(content)\n"
      ],
      "metadata": {
        "id": "eXczagK59L17"
      },
      "execution_count": null,
      "outputs": []
    },
    {
      "cell_type": "code",
      "source": [
        "# 5-How would you catch and handle division by zero error in Python?\n",
        "# Catch and handle division by zero error\n",
        "try:\n",
        "    result = 10 / 0\n",
        "except ZeroDivisionError:\n",
        "    print(\"Cannot divide by zero!\")\n"
      ],
      "metadata": {
        "id": "9kthLEHA9MO_"
      },
      "execution_count": null,
      "outputs": []
    },
    {
      "cell_type": "code",
      "source": [
        "# 6- Write a Python program that logs an error message to a log file when a division by zero exception occurs.\n",
        "# Log an error message to a log file when a division by zero exception occurs\n",
        "import logging\n",
        "\n",
        "logging.basicConfig(filename='app.log', level=logging.ERROR)\n",
        "\n",
        "try:\n",
        "    result = 10 / 0\n",
        "except ZeroDivisionError:\n",
        "    logging.error(\"Division by zero error occurred\")\n"
      ],
      "metadata": {
        "id": "m9kNorD69MoJ"
      },
      "execution_count": null,
      "outputs": []
    },
    {
      "cell_type": "code",
      "source": [
        "# 7-How do you log information at different levels (INFO, ERROR, WARNING) in Python using the logging module?\n",
        "# Log information at different levels (INFO, ERROR, WARNING) using the logging module\n",
        "import logging\n",
        "\n",
        "logging.basicConfig(filename='app.log', level=logging.DEBUG)\n",
        "\n",
        "logging.info(\"This is an info message\")\n",
        "logging.warning(\"This is a warning message\")\n",
        "logging.error(\"This is an error message\")\n"
      ],
      "metadata": {
        "id": "6KjDIssE9M_S"
      },
      "execution_count": null,
      "outputs": []
    },
    {
      "cell_type": "code",
      "source": [
        "# 8- Write a program to handle a file opening error using exception handling.\n",
        "# Handle a file opening error using exception handling\n",
        "try:\n",
        "    with open('non_existent_file.txt', 'r') as file:\n",
        "        content = file.read()\n",
        "except FileNotFoundError:\n",
        "    print(\"The file does not exist.\")\n"
      ],
      "metadata": {
        "id": "1VIBZ4_D9NVu"
      },
      "execution_count": null,
      "outputs": []
    },
    {
      "cell_type": "code",
      "source": [
        "# 9-How can you read a file line by line and store its content in a list in Python?\n",
        "# Read a file line by line and store its content in a list\n",
        "lines = []\n",
        "with open('file.txt', 'r') as file:\n",
        "    for line in file:\n",
        "        lines.append(line.strip())\n"
      ],
      "metadata": {
        "id": "FO7NDTZJ9NrN"
      },
      "execution_count": null,
      "outputs": []
    },
    {
      "cell_type": "code",
      "source": [
        "# 10-How can you append data to an existing file in Python?\n",
        "# Append data to an existing file\n",
        "with open('file.txt', 'a') as file:\n",
        "    file.write('Additional data\\n')\n"
      ],
      "metadata": {
        "id": "9ml2Xf4C9ORn"
      },
      "execution_count": null,
      "outputs": []
    },
    {
      "cell_type": "code",
      "source": [
        "# 11- Write a Python program that uses a try-except block to handle an error when attempting to access a dictionary key that doesn't exist.\n",
        "# Handle an error when attempting to access a dictionary key that doesn't exist\n",
        "my_dict = {'key1': 'value1'}\n",
        "\n",
        "try:\n",
        "    value = my_dict['non_existent_key']\n",
        "except KeyError:\n",
        "    print(\"The key does not exist in the dictionary.\")\n",
        "\n"
      ],
      "metadata": {
        "id": "Gdu_vEuk9Omv"
      },
      "execution_count": null,
      "outputs": []
    },
    {
      "cell_type": "code",
      "source": [
        "# 12-Write a program that demonstrates using multiple except blocks to handle different types of exceptions.\n",
        "# Demonstrate using multiple except blocks to handle different types of exceptions\n",
        "try:\n",
        "    result = 10 / 0\n",
        "except ZeroDivisionError:\n",
        "    print(\"Cannot divide by zero!\")\n",
        "except ValueError:\n",
        "    print(\"Invalid value!\")\n"
      ],
      "metadata": {
        "id": "hEnIZg8p9O_M"
      },
      "execution_count": null,
      "outputs": []
    },
    {
      "cell_type": "code",
      "source": [
        "# 13-How would you check if a file exists before attempting to read it in Python?\n",
        "# Check if a file exists before attempting to read it\n",
        "import os\n",
        "\n",
        "if os.path.exists('file.txt'):\n",
        "    with open('file.txt', 'r') as file:\n",
        "        content = file.read()\n",
        "else:\n",
        "    print(\"The file does not exist.\")\n"
      ],
      "metadata": {
        "id": "dZ5PNizp_X9a"
      },
      "execution_count": null,
      "outputs": []
    },
    {
      "cell_type": "code",
      "source": [
        "# 14- Write a program that uses the logging module to log both informational and error messages.\n",
        "# Use the logging module to log both informational and error messages\n",
        "import logging\n",
        "\n",
        "logging.basicConfig(filename='app.log', level=logging.DEBUG)\n",
        "\n",
        "logging.info(\"This is an informational message\")\n",
        "logging.error(\"This is an error message\")\n"
      ],
      "metadata": {
        "id": "X96y-AQy_fCW"
      },
      "execution_count": null,
      "outputs": []
    },
    {
      "cell_type": "code",
      "source": [
        "# 15- Write a Python program that prints the content of a file and handles the case when the file is empty.\n",
        "# Print the content of a file and handle the case when the file is empty\n",
        "with open('file.txt', 'r') as file:\n",
        "    content = file.read()\n",
        "    if content:\n",
        "        print(content)\n",
        "    else:\n",
        "        print(\"The file is empty.\")\n"
      ],
      "metadata": {
        "id": "l0ekg14I_obY"
      },
      "execution_count": null,
      "outputs": []
    },
    {
      "cell_type": "code",
      "source": [
        "#16- Demonstrate how to use memory profiling to check the memory usage of a small program.\n",
        "# Use memory profiling to check the memory usage of a small program\n",
        "from memory_profiler import profile\n",
        "\n",
        "@profile\n",
        "def my_function():\n",
        "    a = [1] * (10 ** 6)\n",
        "    b = [2] * (2 * 10 ** 7)\n",
        "    del b\n",
        "    return a\n",
        "\n",
        "if __name__ == \"__main__\":\n",
        "    my_function()\n"
      ],
      "metadata": {
        "id": "yrpo12MR_yFJ"
      },
      "execution_count": null,
      "outputs": []
    },
    {
      "cell_type": "code",
      "source": [
        "#17- Write a Python program to create and write a list of numbers to a file, one number per line.\n",
        "# Create and write a list of numbers to a file, one number per line\n",
        "numbers = [1, 2, 3, 4, 5]\n",
        "\n",
        "with open('numbers.txt', 'w') as file:\n",
        "    for number in numbers:\n",
        "        file.write(f\"{number}\\n\")\n"
      ],
      "metadata": {
        "id": "rtXD6OAs_7CN"
      },
      "execution_count": null,
      "outputs": []
    },
    {
      "cell_type": "code",
      "source": [
        "#18- How would you implement a basic logging setup that logs to a file with rotation after 1MB?\n",
        "# Implement a basic logging setup that logs to a file with rotation after 1MB\n",
        "import logging\n",
        "from logging.handlers import RotatingFileHandler\n",
        "\n",
        "handler = RotatingFileHandler('app.log', maxBytes=1_000_000, backupCount=5)\n",
        "logging.basicConfig(handlers=[handler], level=logging.DEBUG)\n",
        "\n",
        "logging.info(\"This is an informational message\")\n",
        "logging.error(\"This is an error message\")\n"
      ],
      "metadata": {
        "id": "Z-TWisrO_9Oj"
      },
      "execution_count": null,
      "outputs": []
    },
    {
      "cell_type": "code",
      "source": [
        "#19- Write a program that handles both IndexError and KeyError using a try-except block.\n",
        "# Handle both IndexError and KeyError using a try-except block\n",
        "try:\n",
        "    my_list = [1, 2, 3]\n",
        "    print(my_list[5])\n",
        "    my_dict = {'key1': 'value1'}\n",
        "    print(my_dict['non_existent_key'])\n",
        "except IndexError:\n",
        "    print(\"Index out of range!\")\n",
        "except KeyError:\n",
        "    print(\"Key does not exist!\")\n"
      ],
      "metadata": {
        "id": "6UBi3EJ_ALVz"
      },
      "execution_count": null,
      "outputs": []
    },
    {
      "cell_type": "code",
      "source": [
        "# 20- How would you open a file and read its contents using a context manager in Python?\n",
        "# Open a file and read its contents using a context manager\n",
        "with open('file.txt', 'r') as file:\n",
        "    content = file.read()\n",
        "    print(content)\n"
      ],
      "metadata": {
        "id": "yF0wG4o0A3tM"
      },
      "execution_count": null,
      "outputs": []
    },
    {
      "cell_type": "code",
      "source": [
        "# 21- Write a Python program that reads a file and prints the number of occurrences of a specific word.\n",
        "# Read a file and print the number of occurrences of a specific word\n",
        "word_to_count = 'example'\n",
        "count = 0\n",
        "\n",
        "with open('file.txt', 'r') as file:\n",
        "    for line in file:\n",
        "        count += line.count(word_to_count)\n",
        "\n",
        "print(f\"The word '{word_to_count}' occurs {count} times.\")\n"
      ],
      "metadata": {
        "id": "f-j5AOLsA-9F"
      },
      "execution_count": null,
      "outputs": []
    },
    {
      "cell_type": "code",
      "source": [
        "# 22- How can you check if a file is empty before attempting to read its contents?\n",
        "# Check if a file is empty before attempting to read its contents\n",
        "import os\n",
        "\n",
        "if os.path.exists('file.txt') and os.path.getsize('file.txt') > 0:\n",
        "    with open('file.txt', 'r') as file:\n",
        "        content = file.read()\n",
        "        print(content)\n",
        "else:\n",
        "    print(\"The file is empty or does not exist.\")\n"
      ],
      "metadata": {
        "id": "1tTHZevwBGM0"
      },
      "execution_count": null,
      "outputs": []
    },
    {
      "cell_type": "code",
      "source": [
        "# 23- Write a Python program that writes to a log file when an error occurs during file handling.\n",
        "# Write to a log file when an error occurs during file handling\n",
        "import logging\n",
        "\n",
        "logging.basicConfig(filename='file_handling.log', level=logging.ERROR)\n",
        "\n",
        "try:\n",
        "    with open('non_existent_file.txt', 'r') as file:\n",
        "        content = file.read()\n",
        "except FileNotFoundError as e:\n",
        "    logging.error(f\"File not found: {e}\")\n"
      ],
      "metadata": {
        "id": "qqIZ8-s0BNua"
      },
      "execution_count": null,
      "outputs": []
    }
  ]
}